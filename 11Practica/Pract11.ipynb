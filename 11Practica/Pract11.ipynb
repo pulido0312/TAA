{
 "cells": [
  {
   "cell_type": "markdown",
   "id": "89fecfc6",
   "metadata": {},
   "source": [
    "## Alejandro Pulido Sánchez"
   ]
  },
  {
   "cell_type": "markdown",
   "id": "7711b69f",
   "metadata": {},
   "source": [
    "# PRÁCTICA 11: RBF Y SVM"
   ]
  },
  {
   "cell_type": "code",
   "execution_count": 41,
   "id": "19b6c2c0",
   "metadata": {},
   "outputs": [],
   "source": [
    "from sklearn.datasets import load_breast_cancer\n",
    "from sklearn.preprocessing import MinMaxScaler\n",
    "from sklearn.metrics import accuracy_score as ac\n",
    "from sklearn.model_selection import StratifiedKFold\n",
    "from sklearn.cluster import KMeans\n",
    "from sklearn.metrics.pairwise import euclidean_distances\n",
    "from sklearn.svm import SVC\n",
    "import numpy as np\n",
    "from scipy.stats import mode\n",
    "import matplotlib.pyplot as plt\n",
    "from tqdm import tqdm\n",
    "import time\n",
    "import pandas as pd\n",
    "from scipy.spatial.distance import cdist"
   ]
  },
  {
   "cell_type": "code",
   "execution_count": 42,
   "id": "714113a0",
   "metadata": {},
   "outputs": [],
   "source": [
    "import warnings\n",
    "warnings.filterwarnings(\"ignore\")"
   ]
  },
  {
   "cell_type": "code",
   "execution_count": 43,
   "id": "d8934ef0",
   "metadata": {},
   "outputs": [],
   "source": [
    "data = load_breast_cancer()"
   ]
  },
  {
   "cell_type": "code",
   "execution_count": 44,
   "id": "152fb96c",
   "metadata": {},
   "outputs": [
    {
     "data": {
      "text/plain": [
       "((569, 30), (569,))"
      ]
     },
     "execution_count": 44,
     "metadata": {},
     "output_type": "execute_result"
    }
   ],
   "source": [
    "#X = MinMaxScaler().fit_transform(data.data) #Quitar el scaler\n",
    "X = data.data\n",
    "y = data.target\n",
    "X.shape, y.shape"
   ]
  },
  {
   "cell_type": "code",
   "execution_count": 45,
   "id": "a58421e2",
   "metadata": {},
   "outputs": [],
   "source": [
    "K=10\n",
    "skf = StratifiedKFold(n_splits=K)"
   ]
  },
  {
   "cell_type": "markdown",
   "id": "46f31b84",
   "metadata": {},
   "source": [
    "<div class=\"alert alert-block alert-success\">\n",
    "    \n",
    "<b>for a, k in tqdm(enumerate(range(2, 31, 1)), total=29, unit=\"n_clusters\" ):</b>  Este es el bucle principal que itera sobre una secuencia de valores de 'k' desde 2 hasta 30 (ambos incluidos). El valor de 'k' se asigna a la variable 'k' en cada iteración.\n",
    "\n",
    "<b>for train_index, test_index in skf.split(X,y):</b>  Aquí se realiza otro bucle utilizando una función 'split' que divide los datos en conjuntos de entrenamiento y verificación. Los índices de los conjuntos de entrenamiento y verificación se asignan a las variables 'train_index' y 'test_index' respectivamente en cada iteración.\n",
    "\n",
    "<b>kmedias = KMeans(n_clusters=k):</b>  Se crea una instancia del algoritmo K-means con el valor actual de 'k' como número de clusters.\n",
    "\n",
    "<b>X_train, X_test = X[train_index], X[test_index] y y_train, y_test = y[train_index], y[test_index]:</b>  Se dividen los datos 'X' y las etiquetas 'y' en conjuntos de entrenamiento y verificación, utilizando los índices obtenidos anteriormente.\n",
    "\n",
    "<b>kmedias.fit(X_train):</b>  Se ajusta el modelo de K-means utilizando los datos de entrenamiento.\n",
    "\n",
    "<b>label_training = kmedias.labels_:</b>  Se obtienen las etiquetas asignadas por K-means a los datos de entrenamiento.\n",
    "\n",
    "<b>label_cluster = np.zeros((k,), dtype=int) - 1:</b>  Se crea un array de ceros de longitud 'k' y tipo entero. Se inicializa con el valor -1 en todas las posiciones.\n",
    "\n",
    "<b>label_cluster[i] = np.array(mode(y_train[np.argwhere(label_training == i)]))[0].astype(int):</b>  Aquí se asigna a 'label_cluster[i]' la etiqueta más frecuente en 'y_train' para los datos de entrenamiento que están asignados al cluster 'i' por K-means.\n",
    "\n",
    "<b>aciertos_entrena += ac(label_cluster[label_training], y_train):</b>  Se calculan los aciertos en el conjunto de entrenamiento comparando las etiquetas asignadas por 'label_cluster' con las etiquetas verdaderas 'y_train'. El resultado se acumula en la variable 'aciertos_entrena'.\n",
    "\n",
    "<b>aciertos_verifica += ac(label_cluster[kmedias.predict(X_test)], y_test):</b>  Se calculan los aciertos en el conjunto de verificación comparando las etiquetas asignadas por 'label_cluster' a los datos de prueba con las etiquetas verdaderas 'y_test'. El resultado se acumula en la variable 'aciertos_verifica'.\n",
    "\n",
    "<b>r_centros.loc[a] = [k, aciertos_entrena/K, aciertos_verifica/K]:</b>  Los resultados de cada iteración se agregan al DataFrame 'r_centros' en la fila 'a'. Se almacenan el valor de 'k', los aciertos promedio en el conjunto de entrenamiento ('aciertos_entrena/K') y los aciertos promedio en el conjunto de verificación ('aciertos_verifica/K')."
   ]
  },
  {
   "cell_type": "code",
   "execution_count": 46,
   "id": "9ccbe64d",
   "metadata": {},
   "outputs": [
    {
     "name": "stderr",
     "output_type": "stream",
     "text": [
      "100%|███████████████████████████████████████████████████████████████████████████| 29/29 [05:39<00:00, 11.72s/n_clusters]"
     ]
    },
    {
     "name": "stdout",
     "output_type": "stream",
     "text": [
      "Tiempo =  339.77467155456543  sec.\n"
     ]
    },
    {
     "name": "stderr",
     "output_type": "stream",
     "text": [
      "\n"
     ]
    }
   ],
   "source": [
    "inicial = time.time()\n",
    "r_centros = pd.DataFrame(columns=['No.Centros', 'Aciertos Entrena', 'Aciertos Verifica'])\n",
    "for a, k in tqdm(enumerate(range(2, 31, 1)), total=29, unit=\"n_clusters\" ):\n",
    "    aciertos_entrena = 0.0\n",
    "    aciertos_verifica = 0.0\n",
    "    \n",
    "    for train_index, test_index in skf.split(X,y):\n",
    "        kmedias = KMeans(n_clusters=k)\n",
    "        \n",
    "        X_train, X_test = X[train_index], X[test_index]\n",
    "        y_train, y_test = y[train_index], y[test_index]\n",
    "        kmedias.fit(X_train)\n",
    "        label_training = kmedias.labels_\n",
    "        label_cluster = np.zeros((k,), dtype=int) - 1\n",
    "        for i in range(k):\n",
    "            label_cluster[i] = np.array(mode(y_train[np.argwhere(label_training == i)]))[0].astype(int)\n",
    "        aciertos_entrena += ac(label_cluster[label_training], y_train)\n",
    "        aciertos_verifica += ac(label_cluster[kmedias.predict(X_test)], y_test)\n",
    "    r_centros.loc[a] = [k, aciertos_entrena/K, aciertos_verifica/K]\n",
    "elapsed_time = time.time() - inicial\n",
    "print(\"Tiempo = \", elapsed_time, \" sec.\")\n",
    "\n"
   ]
  },
  {
   "cell_type": "code",
   "execution_count": 47,
   "id": "65bda650",
   "metadata": {},
   "outputs": [
    {
     "data": {
      "text/html": [
       "<div>\n",
       "<style scoped>\n",
       "    .dataframe tbody tr th:only-of-type {\n",
       "        vertical-align: middle;\n",
       "    }\n",
       "\n",
       "    .dataframe tbody tr th {\n",
       "        vertical-align: top;\n",
       "    }\n",
       "\n",
       "    .dataframe thead th {\n",
       "        text-align: right;\n",
       "    }\n",
       "</style>\n",
       "<table border=\"1\" class=\"dataframe\">\n",
       "  <thead>\n",
       "    <tr style=\"text-align: right;\">\n",
       "      <th></th>\n",
       "      <th>No.Centros</th>\n",
       "      <th>Aciertos Entrena</th>\n",
       "      <th>Aciertos Verifica</th>\n",
       "    </tr>\n",
       "  </thead>\n",
       "  <tbody>\n",
       "    <tr>\n",
       "      <th>0</th>\n",
       "      <td>2.0</td>\n",
       "      <td>0.852568</td>\n",
       "      <td>0.850627</td>\n",
       "    </tr>\n",
       "    <tr>\n",
       "      <th>1</th>\n",
       "      <td>3.0</td>\n",
       "      <td>0.875611</td>\n",
       "      <td>0.869987</td>\n",
       "    </tr>\n",
       "    <tr>\n",
       "      <th>2</th>\n",
       "      <td>4.0</td>\n",
       "      <td>0.843587</td>\n",
       "      <td>0.824311</td>\n",
       "    </tr>\n",
       "    <tr>\n",
       "      <th>3</th>\n",
       "      <td>5.0</td>\n",
       "      <td>0.880300</td>\n",
       "      <td>0.885777</td>\n",
       "    </tr>\n",
       "    <tr>\n",
       "      <th>4</th>\n",
       "      <td>6.0</td>\n",
       "      <td>0.896698</td>\n",
       "      <td>0.891134</td>\n",
       "    </tr>\n",
       "    <tr>\n",
       "      <th>5</th>\n",
       "      <td>7.0</td>\n",
       "      <td>0.881860</td>\n",
       "      <td>0.887594</td>\n",
       "    </tr>\n",
       "    <tr>\n",
       "      <th>6</th>\n",
       "      <td>8.0</td>\n",
       "      <td>0.886156</td>\n",
       "      <td>0.878759</td>\n",
       "    </tr>\n",
       "    <tr>\n",
       "      <th>7</th>\n",
       "      <td>9.0</td>\n",
       "      <td>0.902949</td>\n",
       "      <td>0.899906</td>\n",
       "    </tr>\n",
       "    <tr>\n",
       "      <th>8</th>\n",
       "      <td>10.0</td>\n",
       "      <td>0.904121</td>\n",
       "      <td>0.903415</td>\n",
       "    </tr>\n",
       "    <tr>\n",
       "      <th>9</th>\n",
       "      <td>11.0</td>\n",
       "      <td>0.907443</td>\n",
       "      <td>0.905075</td>\n",
       "    </tr>\n",
       "    <tr>\n",
       "      <th>10</th>\n",
       "      <td>12.0</td>\n",
       "      <td>0.908416</td>\n",
       "      <td>0.910432</td>\n",
       "    </tr>\n",
       "    <tr>\n",
       "      <th>11</th>\n",
       "      <td>13.0</td>\n",
       "      <td>0.905292</td>\n",
       "      <td>0.906924</td>\n",
       "    </tr>\n",
       "    <tr>\n",
       "      <th>12</th>\n",
       "      <td>14.0</td>\n",
       "      <td>0.906464</td>\n",
       "      <td>0.899906</td>\n",
       "    </tr>\n",
       "    <tr>\n",
       "      <th>13</th>\n",
       "      <td>15.0</td>\n",
       "      <td>0.908026</td>\n",
       "      <td>0.908678</td>\n",
       "    </tr>\n",
       "    <tr>\n",
       "      <th>14</th>\n",
       "      <td>16.0</td>\n",
       "      <td>0.908221</td>\n",
       "      <td>0.901660</td>\n",
       "    </tr>\n",
       "    <tr>\n",
       "      <th>15</th>\n",
       "      <td>17.0</td>\n",
       "      <td>0.909980</td>\n",
       "      <td>0.905169</td>\n",
       "    </tr>\n",
       "    <tr>\n",
       "      <th>16</th>\n",
       "      <td>18.0</td>\n",
       "      <td>0.908612</td>\n",
       "      <td>0.905169</td>\n",
       "    </tr>\n",
       "    <tr>\n",
       "      <th>17</th>\n",
       "      <td>19.0</td>\n",
       "      <td>0.909980</td>\n",
       "      <td>0.906924</td>\n",
       "    </tr>\n",
       "    <tr>\n",
       "      <th>18</th>\n",
       "      <td>20.0</td>\n",
       "      <td>0.908026</td>\n",
       "      <td>0.903415</td>\n",
       "    </tr>\n",
       "    <tr>\n",
       "      <th>19</th>\n",
       "      <td>21.0</td>\n",
       "      <td>0.911542</td>\n",
       "      <td>0.908678</td>\n",
       "    </tr>\n",
       "    <tr>\n",
       "      <th>20</th>\n",
       "      <td>22.0</td>\n",
       "      <td>0.915639</td>\n",
       "      <td>0.910495</td>\n",
       "    </tr>\n",
       "    <tr>\n",
       "      <th>21</th>\n",
       "      <td>23.0</td>\n",
       "      <td>0.913885</td>\n",
       "      <td>0.905169</td>\n",
       "    </tr>\n",
       "    <tr>\n",
       "      <th>22</th>\n",
       "      <td>24.0</td>\n",
       "      <td>0.917202</td>\n",
       "      <td>0.917513</td>\n",
       "    </tr>\n",
       "    <tr>\n",
       "      <th>23</th>\n",
       "      <td>25.0</td>\n",
       "      <td>0.924233</td>\n",
       "      <td>0.924530</td>\n",
       "    </tr>\n",
       "    <tr>\n",
       "      <th>24</th>\n",
       "      <td>26.0</td>\n",
       "      <td>0.924624</td>\n",
       "      <td>0.917513</td>\n",
       "    </tr>\n",
       "    <tr>\n",
       "      <th>25</th>\n",
       "      <td>27.0</td>\n",
       "      <td>0.922477</td>\n",
       "      <td>0.917481</td>\n",
       "    </tr>\n",
       "    <tr>\n",
       "      <th>26</th>\n",
       "      <td>28.0</td>\n",
       "      <td>0.924039</td>\n",
       "      <td>0.920990</td>\n",
       "    </tr>\n",
       "    <tr>\n",
       "      <th>27</th>\n",
       "      <td>29.0</td>\n",
       "      <td>0.924822</td>\n",
       "      <td>0.926253</td>\n",
       "    </tr>\n",
       "    <tr>\n",
       "      <th>28</th>\n",
       "      <td>30.0</td>\n",
       "      <td>0.926773</td>\n",
       "      <td>0.919173</td>\n",
       "    </tr>\n",
       "  </tbody>\n",
       "</table>\n",
       "</div>"
      ],
      "text/plain": [
       "    No.Centros  Aciertos Entrena  Aciertos Verifica\n",
       "0          2.0          0.852568           0.850627\n",
       "1          3.0          0.875611           0.869987\n",
       "2          4.0          0.843587           0.824311\n",
       "3          5.0          0.880300           0.885777\n",
       "4          6.0          0.896698           0.891134\n",
       "5          7.0          0.881860           0.887594\n",
       "6          8.0          0.886156           0.878759\n",
       "7          9.0          0.902949           0.899906\n",
       "8         10.0          0.904121           0.903415\n",
       "9         11.0          0.907443           0.905075\n",
       "10        12.0          0.908416           0.910432\n",
       "11        13.0          0.905292           0.906924\n",
       "12        14.0          0.906464           0.899906\n",
       "13        15.0          0.908026           0.908678\n",
       "14        16.0          0.908221           0.901660\n",
       "15        17.0          0.909980           0.905169\n",
       "16        18.0          0.908612           0.905169\n",
       "17        19.0          0.909980           0.906924\n",
       "18        20.0          0.908026           0.903415\n",
       "19        21.0          0.911542           0.908678\n",
       "20        22.0          0.915639           0.910495\n",
       "21        23.0          0.913885           0.905169\n",
       "22        24.0          0.917202           0.917513\n",
       "23        25.0          0.924233           0.924530\n",
       "24        26.0          0.924624           0.917513\n",
       "25        27.0          0.922477           0.917481\n",
       "26        28.0          0.924039           0.920990\n",
       "27        29.0          0.924822           0.926253\n",
       "28        30.0          0.926773           0.919173"
      ]
     },
     "execution_count": 47,
     "metadata": {},
     "output_type": "execute_result"
    }
   ],
   "source": [
    "r_centros"
   ]
  },
  {
   "cell_type": "code",
   "execution_count": 48,
   "id": "c8f574c2",
   "metadata": {},
   "outputs": [
    {
     "data": {
      "image/png": "[encoded data removed]",
      "text/plain": [
       "<Figure size 1000x600 with 1 Axes>"
      ]
     },
     "metadata": {},
     "output_type": "display_data"
    }
   ],
   "source": [
    "plt.figure(figsize=(10, 6))\n",
    "plt.plot(r_centros['No.Centros'], r_centros['Aciertos Entrena'], label='Aciertos Entrena')\n",
    "plt.plot(r_centros['No.Centros'], r_centros['Aciertos Verifica'], label='Aciertos Verifica')\n",
    "plt.xlabel('No. Centros')\n",
    "plt.ylabel('Aciertos')\n",
    "plt.title('Aciertos en entrenamiento y verificación en función del número de centros')\n",
    "plt.legend()\n",
    "plt.grid(True)\n",
    "plt.show()"
   ]
  },
  {
   "cell_type": "code",
   "execution_count": 49,
   "id": "6bc9c270",
   "metadata": {},
   "outputs": [
    {
     "name": "stdout",
     "output_type": "stream",
     "text": [
      "\n",
      "\u001b[1mLa mayor tasa de acierto la obtenemos con 29 clusters \u001b[0m(0.9263)\n"
     ]
    }
   ],
   "source": [
    "optimal_cluster = np.argmax(r_centros['Aciertos Verifica'])+2\n",
    "\n",
    "print(\"\\n\\033[1mLa mayor tasa de acierto la obtenemos con\",optimal_cluster,\"clusters \\033[0m(%.4f)\" %r_centros['Aciertos Verifica'].max())"
   ]
  },
  {
   "cell_type": "markdown",
   "id": "a7d5f104",
   "metadata": {},
   "source": [
    "<div class=\"alert alert-block alert-success\">\n",
    "<b>kmedias = KMeans(n_clusters=optimal_cluster):</b> Se crea una instancia del modelo K-means con el número de clusters óptimo ('optimal_cluster') determinado previamente.\n",
    "\n",
    "<b>kmedias.fit(X):</b> Se ajusta el modelo K-means a los datos 'X'.\n",
    "\n",
    "<b>centros = kmedias.cluster_centers_:</b> Se obtienen los centroides de los clusters encontrados por K-means. Estos centroides representan las posiciones en el espacio de características.\n",
    "\n",
    "<b>distancias = euclidean_distances(centros):</b> Se calcula la matriz de distancias euclidianas entre los centroides. La función 'euclidean_distances' calcula todas las distancias entre pares de puntos en 'centros'.\n",
    "\n",
    "<b>sigma = np.sum(distancias, axis=0)/(centros.shape[0]-1):</b> Se calcula el valor de sigma, que se utiliza como una medida de escala para el cálculo de las características transformadas. Aquí, se suma la matriz de distancias a lo largo del eje 0 (columnas) y se divide por 'centros.shape[0]-1' para obtener el promedio.\n",
    "\n",
    "<b>X_svm = np.exp(-cdist(X, kmedias.cluster_centers_)**2/(2*(sigma**2))):</b> Se utiliza para calcular una matriz de características utilizando la distancia euclidiana y una función exponencial, donde X es la matriz de datos de entrada, kmedias.cluster_centers_ son los centros de los clusters obtenidos a través del algoritmo de k-medias, y sigma es un parámetro que controla la normalización.El resultado se asigna a 'X_svm'.\n",
    "\n",
    "<b>X_svm.shape:</b> Se obtiene la forma de 'X_svm', que indica el número de muestras y el número de características en el espacio de características transformado."
   ]
  },
  {
   "cell_type": "code",
   "execution_count": 50,
   "id": "81a44d1e",
   "metadata": {},
   "outputs": [
    {
     "data": {
      "text/plain": [
       "(569, 29)"
      ]
     },
     "execution_count": 50,
     "metadata": {},
     "output_type": "execute_result"
    }
   ],
   "source": [
    "kmedias = KMeans(n_clusters=optimal_cluster)\n",
    "kmedias.fit(X)\n",
    "centros = kmedias.cluster_centers_\n",
    "distancias = euclidean_distances(centros)\n",
    "sigma = np.sum(distancias, axis=0)/(centros.shape[0]-1)\n",
    "X_svm = np.exp(-cdist(X, kmedias.cluster_centers_)**2/(2*(sigma**2)))\n",
    "X_svm.shape"
   ]
  },
  {
   "cell_type": "markdown",
   "id": "31f4b047",
   "metadata": {},
   "source": [
    "<div class=\"alert alert-block alert-success\">\n",
    "En este fragmento de código, se realiza un bucle para ajustar y evaluar un clasificador SVM con diferentes grados polinomiales utilizando los datos transformados 'X_svm'. Veamos línea por línea:\n",
    "\n",
    "<b>accuracy_per_degree = pd.DataFrame(columns=['Grado Polinomial', 'Tasa de Acierto']):</b> Se crea un DataFrame vacío llamado 'accuracy_per_degree' con dos columnas: 'Grado Polinomial' y 'Tasa de Acierto'. Este DataFrame se utilizará para almacenar los resultados de las tasas de acierto obtenidas en cada iteración del bucle.\n",
    "\n",
    "<b>for k, g in enumerate(range(2,10)):</b>Este bucle itera sobre una secuencia de valores de 'g' desde 2 hasta 9 (ambos incluidos). El valor de 'g' se asigna a la variable 'g' en cada iteración, y el índice de iteración se asigna a la variable 'k'.\n",
    "\n",
    "<b>accuracy_svm = []:</b> Se crea una lista vacía llamada 'accuracy_svm' para almacenar las tasas de acierto obtenidas en cada iteración interna.\n",
    "\n",
    "<b>for train_index, test_index in skf.split(X_svm,y):</b> Otro bucle se utiliza para dividir los datos transformados 'X_svm' y las etiquetas 'y' en conjuntos de entrenamiento y verificación. Los índices de los conjuntos se asignan a las variables 'train_index' y 'test_index' respectivamente en cada iteración.\n",
    "\n",
    "<b>svm = SVC(kernel='poly', degree = g, verbose=False):</b> Se crea una instancia del clasificador SVM con un kernel polinomial y el grado polinomial 'g'. El parámetro 'verbose' se establece en False para evitar mensajes de registro.\n",
    "\n",
    "<b>svm.fit(X_svm[train_index], y[train_index]):</b> Se ajusta el clasificador SVM utilizando los datos de entrenamiento transformados.\n",
    "\n",
    "<b>accuracy_svm.append(svm.score(X_svm[test_index], y[test_index])):</b> Se calcula y se agrega a la lista 'accuracy_svm' la tasa de acierto del clasificador SVM en los datos de verificación transformados.\n",
    "\n",
    "<b>aciertos = np.mean(np.array(accuracy_svm)):</b> Se calcula la media de las tasas de acierto obtenidas en las iteraciones internas utilizando la función 'mean' de NumPy.\n",
    "\n",
    "<b>print(\"Grado:\", g,\"\\t\", aciertos):</b> Se imprime en pantalla el grado polinomial actual y la tasa de acierto promedio correspondiente.\n",
    "\n",
    "<b>accuracy_per_degree.loc[k] = [g, aciertos]:</b> Se agrega una nueva fila al DataFrame 'accuracy_per_degree' con el grado polinomial 'g' y la tasa de acierto promedio 'aciertos'."
   ]
  },
  {
   "cell_type": "code",
   "execution_count": 51,
   "id": "42faa543",
   "metadata": {},
   "outputs": [
    {
     "name": "stdout",
     "output_type": "stream",
     "text": [
      "Grado: 2 \t 0.9104323308270675\n",
      "Grado: 3 \t 0.9174498746867167\n",
      "Grado: 4 \t 0.9174498746867167\n",
      "Grado: 5 \t 0.9227130325814537\n",
      "Grado: 6 \t 0.9209273182957395\n",
      "Grado: 7 \t 0.9191416040100252\n",
      "Grado: 8 \t 0.9261591478696742\n",
      "Grado: 9 \t 0.9244987468671679\n"
     ]
    }
   ],
   "source": [
    "accuracy_per_degree = pd.DataFrame(columns=['Grado Polinomial', 'Tasa de Acierto'])\n",
    "\n",
    "for k, g in enumerate(range(2,10)):\n",
    "    accuracy_svm = []\n",
    "    for train_index, test_index in skf.split(X_svm,y):\n",
    "        svm = SVC(kernel='poly', degree = g, verbose=False)\n",
    "        svm.fit(X_svm[train_index], y[train_index])\n",
    "        accuracy_svm.append(svm.score(X_svm[test_index], y[test_index]))\n",
    "    aciertos = np.mean(np.array(accuracy_svm))\n",
    "    print(\"Grado:\", g,\"\\t\", aciertos)\n",
    "    accuracy_per_degree.loc[k] = [g, aciertos]"
   ]
  },
  {
   "cell_type": "code",
   "execution_count": 52,
   "id": "d5163348",
   "metadata": {},
   "outputs": [
    {
     "data": {
      "text/html": [
       "<div>\n",
       "<style scoped>\n",
       "    .dataframe tbody tr th:only-of-type {\n",
       "        vertical-align: middle;\n",
       "    }\n",
       "\n",
       "    .dataframe tbody tr th {\n",
       "        vertical-align: top;\n",
       "    }\n",
       "\n",
       "    .dataframe thead th {\n",
       "        text-align: right;\n",
       "    }\n",
       "</style>\n",
       "<table border=\"1\" class=\"dataframe\">\n",
       "  <thead>\n",
       "    <tr style=\"text-align: right;\">\n",
       "      <th></th>\n",
       "      <th>Grado Polinomial</th>\n",
       "      <th>Tasa de Acierto</th>\n",
       "    </tr>\n",
       "  </thead>\n",
       "  <tbody>\n",
       "    <tr>\n",
       "      <th>0</th>\n",
       "      <td>2.0</td>\n",
       "      <td>0.910432</td>\n",
       "    </tr>\n",
       "    <tr>\n",
       "      <th>1</th>\n",
       "      <td>3.0</td>\n",
       "      <td>0.917450</td>\n",
       "    </tr>\n",
       "    <tr>\n",
       "      <th>2</th>\n",
       "      <td>4.0</td>\n",
       "      <td>0.917450</td>\n",
       "    </tr>\n",
       "    <tr>\n",
       "      <th>3</th>\n",
       "      <td>5.0</td>\n",
       "      <td>0.922713</td>\n",
       "    </tr>\n",
       "    <tr>\n",
       "      <th>4</th>\n",
       "      <td>6.0</td>\n",
       "      <td>0.920927</td>\n",
       "    </tr>\n",
       "    <tr>\n",
       "      <th>5</th>\n",
       "      <td>7.0</td>\n",
       "      <td>0.919142</td>\n",
       "    </tr>\n",
       "    <tr>\n",
       "      <th>6</th>\n",
       "      <td>8.0</td>\n",
       "      <td>0.926159</td>\n",
       "    </tr>\n",
       "    <tr>\n",
       "      <th>7</th>\n",
       "      <td>9.0</td>\n",
       "      <td>0.924499</td>\n",
       "    </tr>\n",
       "  </tbody>\n",
       "</table>\n",
       "</div>"
      ],
      "text/plain": [
       "   Grado Polinomial  Tasa de Acierto\n",
       "0               2.0         0.910432\n",
       "1               3.0         0.917450\n",
       "2               4.0         0.917450\n",
       "3               5.0         0.922713\n",
       "4               6.0         0.920927\n",
       "5               7.0         0.919142\n",
       "6               8.0         0.926159\n",
       "7               9.0         0.924499"
      ]
     },
     "execution_count": 52,
     "metadata": {},
     "output_type": "execute_result"
    }
   ],
   "source": [
    "accuracy_per_degree"
   ]
  },
  {
   "cell_type": "code",
   "execution_count": 53,
   "id": "e77bcd85",
   "metadata": {},
   "outputs": [
    {
     "name": "stdout",
     "output_type": "stream",
     "text": [
      "\n",
      "\u001b[1mLa mayor tasa de acierto la obtenemos con un kernel polinómico de grado 8 \u001b[0m(0.9262)\n"
     ]
    }
   ],
   "source": [
    "optimal_degree = np.argmax(accuracy_per_degree[\"Tasa de Acierto\"])+2  \n",
    "\n",
    "print(\"\\n\\033[1mLa mayor tasa de acierto la obtenemos con un kernel polinómico de grado\",optimal_degree,\"\\033[0m(%.4f)\" %accuracy_per_degree['Tasa de Acierto'].max())\n"
   ]
  },
  {
   "cell_type": "code",
   "execution_count": null,
   "id": "13989af4",
   "metadata": {},
   "outputs": [],
   "source": []
  }
 ],
 "metadata": {
  "kernelspec": {
   "display_name": "Python 3 (ipykernel)",
   "language": "python",
   "name": "python3"
  },
  "language_info": {
   "codemirror_mode": {
    "name": "ipython",
    "version": 3
   },
   "file_extension": ".py",
   "mimetype": "text/x-python",
   "name": "python",
   "nbconvert_exporter": "python",
   "pygments_lexer": "ipython3",
   "version": "3.9.13"
  }
 },
 "nbformat": 4,
 "nbformat_minor": 5
}
