{
 "cells": [
  {
   "cell_type": "code",
   "execution_count": 1,
   "id": "ff948f9e",
   "metadata": {},
   "outputs": [],
   "source": [
    "import numpy as np\n",
    "import pandas as pd\n",
    "\n",
    "from sklearn.neighbors import KNeighborsClassifier\n",
    "\n",
    "from sklearn.datasets import load_digits\n",
    "\n",
    "import matplotlib.pyplot as plt\n",
    "\n",
    "from sklearn.preprocessing import MinMaxScaler\n",
    "\n",
    "from sklearn.model_selection import train_test_split"
   ]
  },
  {
   "cell_type": "code",
   "execution_count": 2,
   "id": "8247089b",
   "metadata": {},
   "outputs": [],
   "source": [
    "import warnings\n",
    "warnings.filterwarnings(\"ignore\")"
   ]
  },
  {
   "cell_type": "markdown",
   "id": "76ce187a",
   "metadata": {},
   "source": [
    "# PARTE I\n",
    "Variando el k entre 1 y 15, ejecutar el algoritmo y obtener su tasa de aciertos para el conjunto de test. Representar este valor en un diagrama de barras, calcular el k óptimo y dar su correspondiente tasa de aciertos.\n"
   ]
  },
  {
   "cell_type": "code",
   "execution_count": 3,
   "id": "e39a5fae",
   "metadata": {},
   "outputs": [
    {
     "data": {
      "text/plain": [
       "64"
      ]
     },
     "execution_count": 3,
     "metadata": {},
     "output_type": "execute_result"
    }
   ],
   "source": [
    "digitos = load_digits()\n",
    "len(digitos.feature_names)"
   ]
  },
  {
   "cell_type": "markdown",
   "id": "10f63bc1",
   "metadata": {},
   "source": [
    "<div class=\"alert alert-block alert-success\">\n",
    "<b>El primer fragmento de código:</b> crea el DataFrame \"df\" con columnas que se nombran a partir de los nombres de características del conjunto de datos de \"digitos\" (obtenido a través de \"digitos.feature_names\") y los datos del conjunto de datos de \"digitos\" (obtenido a través de \"digitos.data\").\n",
    "\n",
    "<b>El segundo fragmento de código: </b> añade una nueva columna al DataFrame \"df\" llamada \"digito\", que contiene los objetivos del conjunto de datos de \"digitos\" (obtenido a través de \"digitos.target\"). \"loc\" se refiere a la ubicación donde se inserta la nueva columna, que es después de la última columna existente en el DataFrame, y \"value\" es el valor que se asigna a la nueva columna.</div>"
   ]
  },
  {
   "cell_type": "code",
   "execution_count": 4,
   "id": "4572b9d0",
   "metadata": {},
   "outputs": [
    {
     "data": {
      "text/html": [
       "<div>\n",
       "<style scoped>\n",
       "    .dataframe tbody tr th:only-of-type {\n",
       "        vertical-align: middle;\n",
       "    }\n",
       "\n",
       "    .dataframe tbody tr th {\n",
       "        vertical-align: top;\n",
       "    }\n",
       "\n",
       "    .dataframe thead th {\n",
       "        text-align: right;\n",
       "    }\n",
       "</style>\n",
       "<table border=\"1\" class=\"dataframe\">\n",
       "  <thead>\n",
       "    <tr style=\"text-align: right;\">\n",
       "      <th></th>\n",
       "      <th>pixel_0_0</th>\n",
       "      <th>pixel_0_1</th>\n",
       "      <th>pixel_0_2</th>\n",
       "      <th>pixel_0_3</th>\n",
       "      <th>pixel_0_4</th>\n",
       "      <th>pixel_0_5</th>\n",
       "      <th>pixel_0_6</th>\n",
       "      <th>pixel_0_7</th>\n",
       "      <th>pixel_1_0</th>\n",
       "      <th>pixel_1_1</th>\n",
       "      <th>...</th>\n",
       "      <th>pixel_6_7</th>\n",
       "      <th>pixel_7_0</th>\n",
       "      <th>pixel_7_1</th>\n",
       "      <th>pixel_7_2</th>\n",
       "      <th>pixel_7_3</th>\n",
       "      <th>pixel_7_4</th>\n",
       "      <th>pixel_7_5</th>\n",
       "      <th>pixel_7_6</th>\n",
       "      <th>pixel_7_7</th>\n",
       "      <th>digito</th>\n",
       "    </tr>\n",
       "  </thead>\n",
       "  <tbody>\n",
       "    <tr>\n",
       "      <th>0</th>\n",
       "      <td>0.0</td>\n",
       "      <td>0.0</td>\n",
       "      <td>5.0</td>\n",
       "      <td>13.0</td>\n",
       "      <td>9.0</td>\n",
       "      <td>1.0</td>\n",
       "      <td>0.0</td>\n",
       "      <td>0.0</td>\n",
       "      <td>0.0</td>\n",
       "      <td>0.0</td>\n",
       "      <td>...</td>\n",
       "      <td>0.0</td>\n",
       "      <td>0.0</td>\n",
       "      <td>0.0</td>\n",
       "      <td>6.0</td>\n",
       "      <td>13.0</td>\n",
       "      <td>10.0</td>\n",
       "      <td>0.0</td>\n",
       "      <td>0.0</td>\n",
       "      <td>0.0</td>\n",
       "      <td>0</td>\n",
       "    </tr>\n",
       "    <tr>\n",
       "      <th>1</th>\n",
       "      <td>0.0</td>\n",
       "      <td>0.0</td>\n",
       "      <td>0.0</td>\n",
       "      <td>12.0</td>\n",
       "      <td>13.0</td>\n",
       "      <td>5.0</td>\n",
       "      <td>0.0</td>\n",
       "      <td>0.0</td>\n",
       "      <td>0.0</td>\n",
       "      <td>0.0</td>\n",
       "      <td>...</td>\n",
       "      <td>0.0</td>\n",
       "      <td>0.0</td>\n",
       "      <td>0.0</td>\n",
       "      <td>0.0</td>\n",
       "      <td>11.0</td>\n",
       "      <td>16.0</td>\n",
       "      <td>10.0</td>\n",
       "      <td>0.0</td>\n",
       "      <td>0.0</td>\n",
       "      <td>1</td>\n",
       "    </tr>\n",
       "    <tr>\n",
       "      <th>2</th>\n",
       "      <td>0.0</td>\n",
       "      <td>0.0</td>\n",
       "      <td>0.0</td>\n",
       "      <td>4.0</td>\n",
       "      <td>15.0</td>\n",
       "      <td>12.0</td>\n",
       "      <td>0.0</td>\n",
       "      <td>0.0</td>\n",
       "      <td>0.0</td>\n",
       "      <td>0.0</td>\n",
       "      <td>...</td>\n",
       "      <td>0.0</td>\n",
       "      <td>0.0</td>\n",
       "      <td>0.0</td>\n",
       "      <td>0.0</td>\n",
       "      <td>3.0</td>\n",
       "      <td>11.0</td>\n",
       "      <td>16.0</td>\n",
       "      <td>9.0</td>\n",
       "      <td>0.0</td>\n",
       "      <td>2</td>\n",
       "    </tr>\n",
       "    <tr>\n",
       "      <th>3</th>\n",
       "      <td>0.0</td>\n",
       "      <td>0.0</td>\n",
       "      <td>7.0</td>\n",
       "      <td>15.0</td>\n",
       "      <td>13.0</td>\n",
       "      <td>1.0</td>\n",
       "      <td>0.0</td>\n",
       "      <td>0.0</td>\n",
       "      <td>0.0</td>\n",
       "      <td>8.0</td>\n",
       "      <td>...</td>\n",
       "      <td>0.0</td>\n",
       "      <td>0.0</td>\n",
       "      <td>0.0</td>\n",
       "      <td>7.0</td>\n",
       "      <td>13.0</td>\n",
       "      <td>13.0</td>\n",
       "      <td>9.0</td>\n",
       "      <td>0.0</td>\n",
       "      <td>0.0</td>\n",
       "      <td>3</td>\n",
       "    </tr>\n",
       "    <tr>\n",
       "      <th>4</th>\n",
       "      <td>0.0</td>\n",
       "      <td>0.0</td>\n",
       "      <td>0.0</td>\n",
       "      <td>1.0</td>\n",
       "      <td>11.0</td>\n",
       "      <td>0.0</td>\n",
       "      <td>0.0</td>\n",
       "      <td>0.0</td>\n",
       "      <td>0.0</td>\n",
       "      <td>0.0</td>\n",
       "      <td>...</td>\n",
       "      <td>0.0</td>\n",
       "      <td>0.0</td>\n",
       "      <td>0.0</td>\n",
       "      <td>0.0</td>\n",
       "      <td>2.0</td>\n",
       "      <td>16.0</td>\n",
       "      <td>4.0</td>\n",
       "      <td>0.0</td>\n",
       "      <td>0.0</td>\n",
       "      <td>4</td>\n",
       "    </tr>\n",
       "    <tr>\n",
       "      <th>...</th>\n",
       "      <td>...</td>\n",
       "      <td>...</td>\n",
       "      <td>...</td>\n",
       "      <td>...</td>\n",
       "      <td>...</td>\n",
       "      <td>...</td>\n",
       "      <td>...</td>\n",
       "      <td>...</td>\n",
       "      <td>...</td>\n",
       "      <td>...</td>\n",
       "      <td>...</td>\n",
       "      <td>...</td>\n",
       "      <td>...</td>\n",
       "      <td>...</td>\n",
       "      <td>...</td>\n",
       "      <td>...</td>\n",
       "      <td>...</td>\n",
       "      <td>...</td>\n",
       "      <td>...</td>\n",
       "      <td>...</td>\n",
       "      <td>...</td>\n",
       "    </tr>\n",
       "    <tr>\n",
       "      <th>1792</th>\n",
       "      <td>0.0</td>\n",
       "      <td>0.0</td>\n",
       "      <td>4.0</td>\n",
       "      <td>10.0</td>\n",
       "      <td>13.0</td>\n",
       "      <td>6.0</td>\n",
       "      <td>0.0</td>\n",
       "      <td>0.0</td>\n",
       "      <td>0.0</td>\n",
       "      <td>1.0</td>\n",
       "      <td>...</td>\n",
       "      <td>0.0</td>\n",
       "      <td>0.0</td>\n",
       "      <td>0.0</td>\n",
       "      <td>2.0</td>\n",
       "      <td>14.0</td>\n",
       "      <td>15.0</td>\n",
       "      <td>9.0</td>\n",
       "      <td>0.0</td>\n",
       "      <td>0.0</td>\n",
       "      <td>9</td>\n",
       "    </tr>\n",
       "    <tr>\n",
       "      <th>1793</th>\n",
       "      <td>0.0</td>\n",
       "      <td>0.0</td>\n",
       "      <td>6.0</td>\n",
       "      <td>16.0</td>\n",
       "      <td>13.0</td>\n",
       "      <td>11.0</td>\n",
       "      <td>1.0</td>\n",
       "      <td>0.0</td>\n",
       "      <td>0.0</td>\n",
       "      <td>0.0</td>\n",
       "      <td>...</td>\n",
       "      <td>0.0</td>\n",
       "      <td>0.0</td>\n",
       "      <td>0.0</td>\n",
       "      <td>6.0</td>\n",
       "      <td>16.0</td>\n",
       "      <td>14.0</td>\n",
       "      <td>6.0</td>\n",
       "      <td>0.0</td>\n",
       "      <td>0.0</td>\n",
       "      <td>0</td>\n",
       "    </tr>\n",
       "    <tr>\n",
       "      <th>1794</th>\n",
       "      <td>0.0</td>\n",
       "      <td>0.0</td>\n",
       "      <td>1.0</td>\n",
       "      <td>11.0</td>\n",
       "      <td>15.0</td>\n",
       "      <td>1.0</td>\n",
       "      <td>0.0</td>\n",
       "      <td>0.0</td>\n",
       "      <td>0.0</td>\n",
       "      <td>0.0</td>\n",
       "      <td>...</td>\n",
       "      <td>0.0</td>\n",
       "      <td>0.0</td>\n",
       "      <td>0.0</td>\n",
       "      <td>2.0</td>\n",
       "      <td>9.0</td>\n",
       "      <td>13.0</td>\n",
       "      <td>6.0</td>\n",
       "      <td>0.0</td>\n",
       "      <td>0.0</td>\n",
       "      <td>8</td>\n",
       "    </tr>\n",
       "    <tr>\n",
       "      <th>1795</th>\n",
       "      <td>0.0</td>\n",
       "      <td>0.0</td>\n",
       "      <td>2.0</td>\n",
       "      <td>10.0</td>\n",
       "      <td>7.0</td>\n",
       "      <td>0.0</td>\n",
       "      <td>0.0</td>\n",
       "      <td>0.0</td>\n",
       "      <td>0.0</td>\n",
       "      <td>0.0</td>\n",
       "      <td>...</td>\n",
       "      <td>0.0</td>\n",
       "      <td>0.0</td>\n",
       "      <td>0.0</td>\n",
       "      <td>5.0</td>\n",
       "      <td>12.0</td>\n",
       "      <td>16.0</td>\n",
       "      <td>12.0</td>\n",
       "      <td>0.0</td>\n",
       "      <td>0.0</td>\n",
       "      <td>9</td>\n",
       "    </tr>\n",
       "    <tr>\n",
       "      <th>1796</th>\n",
       "      <td>0.0</td>\n",
       "      <td>0.0</td>\n",
       "      <td>10.0</td>\n",
       "      <td>14.0</td>\n",
       "      <td>8.0</td>\n",
       "      <td>1.0</td>\n",
       "      <td>0.0</td>\n",
       "      <td>0.0</td>\n",
       "      <td>0.0</td>\n",
       "      <td>2.0</td>\n",
       "      <td>...</td>\n",
       "      <td>0.0</td>\n",
       "      <td>0.0</td>\n",
       "      <td>1.0</td>\n",
       "      <td>8.0</td>\n",
       "      <td>12.0</td>\n",
       "      <td>14.0</td>\n",
       "      <td>12.0</td>\n",
       "      <td>1.0</td>\n",
       "      <td>0.0</td>\n",
       "      <td>8</td>\n",
       "    </tr>\n",
       "  </tbody>\n",
       "</table>\n",
       "<p>1797 rows × 65 columns</p>\n",
       "</div>"
      ],
      "text/plain": [
       "      pixel_0_0  pixel_0_1  pixel_0_2  pixel_0_3  pixel_0_4  pixel_0_5  \\\n",
       "0           0.0        0.0        5.0       13.0        9.0        1.0   \n",
       "1           0.0        0.0        0.0       12.0       13.0        5.0   \n",
       "2           0.0        0.0        0.0        4.0       15.0       12.0   \n",
       "3           0.0        0.0        7.0       15.0       13.0        1.0   \n",
       "4           0.0        0.0        0.0        1.0       11.0        0.0   \n",
       "...         ...        ...        ...        ...        ...        ...   \n",
       "1792        0.0        0.0        4.0       10.0       13.0        6.0   \n",
       "1793        0.0        0.0        6.0       16.0       13.0       11.0   \n",
       "1794        0.0        0.0        1.0       11.0       15.0        1.0   \n",
       "1795        0.0        0.0        2.0       10.0        7.0        0.0   \n",
       "1796        0.0        0.0       10.0       14.0        8.0        1.0   \n",
       "\n",
       "      pixel_0_6  pixel_0_7  pixel_1_0  pixel_1_1  ...  pixel_6_7  pixel_7_0  \\\n",
       "0           0.0        0.0        0.0        0.0  ...        0.0        0.0   \n",
       "1           0.0        0.0        0.0        0.0  ...        0.0        0.0   \n",
       "2           0.0        0.0        0.0        0.0  ...        0.0        0.0   \n",
       "3           0.0        0.0        0.0        8.0  ...        0.0        0.0   \n",
       "4           0.0        0.0        0.0        0.0  ...        0.0        0.0   \n",
       "...         ...        ...        ...        ...  ...        ...        ...   \n",
       "1792        0.0        0.0        0.0        1.0  ...        0.0        0.0   \n",
       "1793        1.0        0.0        0.0        0.0  ...        0.0        0.0   \n",
       "1794        0.0        0.0        0.0        0.0  ...        0.0        0.0   \n",
       "1795        0.0        0.0        0.0        0.0  ...        0.0        0.0   \n",
       "1796        0.0        0.0        0.0        2.0  ...        0.0        0.0   \n",
       "\n",
       "      pixel_7_1  pixel_7_2  pixel_7_3  pixel_7_4  pixel_7_5  pixel_7_6  \\\n",
       "0           0.0        6.0       13.0       10.0        0.0        0.0   \n",
       "1           0.0        0.0       11.0       16.0       10.0        0.0   \n",
       "2           0.0        0.0        3.0       11.0       16.0        9.0   \n",
       "3           0.0        7.0       13.0       13.0        9.0        0.0   \n",
       "4           0.0        0.0        2.0       16.0        4.0        0.0   \n",
       "...         ...        ...        ...        ...        ...        ...   \n",
       "1792        0.0        2.0       14.0       15.0        9.0        0.0   \n",
       "1793        0.0        6.0       16.0       14.0        6.0        0.0   \n",
       "1794        0.0        2.0        9.0       13.0        6.0        0.0   \n",
       "1795        0.0        5.0       12.0       16.0       12.0        0.0   \n",
       "1796        1.0        8.0       12.0       14.0       12.0        1.0   \n",
       "\n",
       "      pixel_7_7  digito  \n",
       "0           0.0       0  \n",
       "1           0.0       1  \n",
       "2           0.0       2  \n",
       "3           0.0       3  \n",
       "4           0.0       4  \n",
       "...         ...     ...  \n",
       "1792        0.0       9  \n",
       "1793        0.0       0  \n",
       "1794        0.0       8  \n",
       "1795        0.0       9  \n",
       "1796        0.0       8  \n",
       "\n",
       "[1797 rows x 65 columns]"
      ]
     },
     "execution_count": 4,
     "metadata": {},
     "output_type": "execute_result"
    }
   ],
   "source": [
    "df = pd.DataFrame(columns=digitos.feature_names, data=digitos.data)\n",
    "\n",
    "df.insert(loc=len(digitos.feature_names), column='digito', value=digitos.target) #Añade la columna digito que es donde aparece el objetivo\n",
    "df"
   ]
  },
  {
   "cell_type": "markdown",
   "id": "697b72ea",
   "metadata": {},
   "source": [
    "<div class=\"alert alert-block alert-success\">\n",
    "<b>El primer fragmento de código:</b>  crea un objeto \"escala\" de la clase \"MinMaxScaler\".\n",
    "\n",
    "<b>El segundo fragmento de código:</b>  utiliza el método \"fit_transform\" del objeto \"escala\" para escalar los datos del conjunto de datos \"digitos\" y almacenarlos en la variable \"X\". \"fit_transform\" primero ajusta el escalado en función de los datos del conjunto de datos y luego transforma los datos en su versión escalada.\n",
    "\n",
    "<b>El tercer fragmento de código:</b>  almacena los objetivos del conjunto de datos \"digitos\" en la variable \"y\".\n",
    "</div>\n",
    "\n",
    "\n"
   ]
  },
  {
   "cell_type": "code",
   "execution_count": 5,
   "id": "78a8f36c",
   "metadata": {},
   "outputs": [],
   "source": [
    "#Hay que hacer la escala con la union de todos los conjuntos, aunque te los den separados. El fit lo puedes hacer sobre cada conjunto separado.\n",
    "escala = MinMaxScaler()\n",
    "X = escala.fit_transform(digitos.data)\n",
    "y = digitos.target"
   ]
  },
  {
   "cell_type": "markdown",
   "id": "ce10d37c",
   "metadata": {},
   "source": [
    "<div class=\"alert alert-block alert-success\">\n",
    "    \n",
    "<b>En el siguiente fragmento de código:</b> La variable \"accuracy\" es una matriz NumPy de 10 filas y 15 columnas, inicializada con ceros, que se utiliza para almacenar la precisión del clasificador para cada valor de \"k\" en cada iteración del hold-out repetido.\n",
    "\n",
    "En el bucle externo \"for\" de rango 10, se realiza la validación cruzada de \"hold-out repetido\". En cada iteración, se utiliza el método \"train_test_split\" de la librería \"scikit-learn\" para dividir los datos escalados \"X\" y objetivos \"y\" en conjuntos de entrenamiento y prueba con un tamaño de prueba del 33% y estratificación de los datos de acuerdo con los objetivos.\n",
    "\n",
    "Luego, se realiza el bucle interno \"for\" para recorrer los diferentes valores de \"k\" del clasificador k-NN.\n",
    "\n",
    "Dentro de este bucle, se crea un objeto \"clf\" de la clase \"KNeighborsClassifier\" con el hiperparámetro \"n_neighbors\" establecido en \"k\" y el algoritmo \"brute\".\n",
    "\n",
    "A continuación, se ajusta el clasificador utilizando los datos de entrenamiento \"X_train\" y objetivos \"y_train\" utilizando el método \"fit\".\n",
    "\n",
    "Finalmente, se calcula la precisión del clasificador utilizando el método \"score\" con los datos de prueba \"X_test\" y objetivos \"y_test\", y se almacena en la matriz \"accuracy\" correspondiente a la iteración actual del hold-out repetido y el valor de \"k\".\n",
    "    </div>"
   ]
  },
  {
   "cell_type": "code",
   "execution_count": 6,
   "id": "3d61bca2",
   "metadata": {},
   "outputs": [],
   "source": [
    "accuracy = np.zeros((10,15), dtype=float)\n",
    "#Hold out repetido\n",
    "for h in range(10):\n",
    "    X_train, X_test, y_train, y_test = train_test_split(X, y, test_size = 1/3 , stratify=y) #(evitamos inicializar random_state para el hold out repetido)\n",
    "    for k in range(1,16):\n",
    "        clf = KNeighborsClassifier(n_neighbors = k , algorithm='brute')\n",
    "        clf.fit(X_train, y_train)\n",
    "        accuracy[h, k-1]=clf.score(X_test,y_test)"
   ]
  },
  {
   "cell_type": "markdown",
   "id": "fddcf595",
   "metadata": {},
   "source": [
    "<div class=\"alert alert-block alert-success\">\n",
    "<b>En el siguiente fragmento de código:</b>  La función \"np.mean\" de NumPy se utiliza para calcular el promedio de las tasas de precisión almacenadas en la matriz \"accuracy\" a lo largo del eje 0 (filas), es decir, para cada valor de \"k\".\n",
    "\n",
    "El resultado es un vector NumPy de 15 elementos, donde cada elemento es el promedio de la tasa de precisión del clasificador k-NN correspondiente al valor de \"k\" correspondiente. El vector resultante se almacena en la variable \"aciertos\".</div>"
   ]
  },
  {
   "cell_type": "code",
   "execution_count": 7,
   "id": "1711d185",
   "metadata": {},
   "outputs": [
    {
     "data": {
      "text/plain": [
       "(15,)"
      ]
     },
     "execution_count": 7,
     "metadata": {},
     "output_type": "execute_result"
    }
   ],
   "source": [
    "aciertos = np.mean(accuracy, axis=0)\n",
    "aciertos.shape"
   ]
  },
  {
   "cell_type": "markdown",
   "id": "8a64d6d8",
   "metadata": {},
   "source": [
    "<div class=\"alert alert-block alert-success\">\n",
    "<b>En el siguiente fragmento de código:</b> Se utiliza la función \"subplots\" de la librería \"matplotlib\" para crear una figura y un objeto de eje.\n",
    "La función \"ax.bar\" se utiliza para crear el gráfico de barras. Se especifica el eje x utilizando la función \"np.arange\" de NumPy para generar una secuencia de valores enteros del 1 al 15 (correspondiente a los valores de \"k\"), y se utiliza el vector \"aciertos\" como altura de las barras.</div>"
   ]
  },
  {
   "cell_type": "code",
   "execution_count": 8,
   "id": "62be431c",
   "metadata": {},
   "outputs": [
    {
     "data": {
      "text/plain": [
       "Text(0, 0.5, 'Aciertos')"
      ]
     },
     "execution_count": 8,
     "metadata": {},
     "output_type": "execute_result"
    },
    {
     "data": {
      "image/png": "[encoded data removed]",
      "text/plain": [
       "<Figure size 640x480 with 1 Axes>"
      ]
     },
     "metadata": {},
     "output_type": "display_data"
    }
   ],
   "source": [
    "fig, ax =plt.subplots()\n",
    "ax.bar(x=np.arange(1, 16), height=aciertos)\n",
    "ax.set_title('DataSet: DIGITS (1797)')\n",
    "ax.set_ylim(0.95,0.99)\n",
    "ax.set_xlabel('K - vecinos')\n",
    "ax.set_ylabel('Aciertos')"
   ]
  },
  {
   "cell_type": "code",
   "execution_count": 9,
   "id": "59b54a35",
   "metadata": {},
   "outputs": [
    {
     "name": "stdout",
     "output_type": "stream",
     "text": [
      "Kmax  =  3 \tTasa max =  0.9856427378964943\n"
     ]
    }
   ],
   "source": [
    "print('Kmax  = ', np.argmax(aciertos)+1, '\\tTasa max = ',np.max(aciertos))"
   ]
  },
  {
   "cell_type": "markdown",
   "id": "300227ee",
   "metadata": {},
   "source": [
    "# PARTE II\n",
    "Lo mismo que lo anterior, sólo que los píxeles hay que reducirlos a bits, esto es, poner uno si el pixel no era cero y dejar el cero, si ya lo era."
   ]
  },
  {
   "cell_type": "markdown",
   "id": "a8e874b1",
   "metadata": {},
   "source": [
    "<div class=\"alert alert-block alert-success\">\n",
    "<b>El siguiente fragmento de código:</b> crea una nueva matriz llamada \"digBool\" a partir de la matriz \"digitos.data\". La nueva matriz tiene la misma forma que la matriz original, pero con valores booleanos en lugar de valores numéricos.\n",
    "\n",
    "En particular, para cada elemento en \"digitos.data\", si su valor es cero, el valor correspondiente en \"digBool\" será \"False\", de lo contrario será \"True\". Por lo tanto, \"digBool\" contiene una representación binaria de los dígitos en la matriz original, donde cada elemento de \"False\" indica un píxel vacío y cada elemento de \"True\" indica un píxel lleno.</div>"
   ]
  },
  {
   "cell_type": "code",
   "execution_count": 10,
   "id": "a0dc63dd",
   "metadata": {},
   "outputs": [
    {
     "data": {
      "text/plain": [
       "array([[False, False,  True, ..., False, False, False],\n",
       "       [False, False, False, ...,  True, False, False],\n",
       "       [False, False, False, ...,  True,  True, False],\n",
       "       ...,\n",
       "       [False, False,  True, ...,  True, False, False],\n",
       "       [False, False,  True, ...,  True, False, False],\n",
       "       [False, False,  True, ...,  True,  True, False]])"
      ]
     },
     "execution_count": 10,
     "metadata": {},
     "output_type": "execute_result"
    }
   ],
   "source": [
    "digBool = digitos.data != 0\n",
    "digBool"
   ]
  },
  {
   "cell_type": "markdown",
   "id": "c84636df",
   "metadata": {},
   "source": [
    "<div class=\"alert alert-block alert-success\">\n",
    "<b>El siguiente fragmento de código:</b> convierte la matriz booleana \"digBool\" en una nueva matriz \"X\" de valores de punto flotante.\n",
    "\n",
    "La función \"np.array\" de NumPy se utiliza para crear una nueva matriz \"X\" con la misma forma que \"digBool\". El argumento \"dtype=float\" se utiliza para especificar que los valores en \"X\" son de tipo de punto flotante. Como resultado, cada elemento en \"X\" tiene un valor de 1.0 si el valor correspondiente en \"digBool\" es \"True\" y un valor de 0.0 si el valor en \"digBool\" es \"False\".</div>"
   ]
  },
  {
   "cell_type": "code",
   "execution_count": 11,
   "id": "fe3b2553",
   "metadata": {},
   "outputs": [],
   "source": [
    "X = np.array(digBool, dtype=float)"
   ]
  },
  {
   "cell_type": "code",
   "execution_count": 12,
   "id": "e130c462",
   "metadata": {},
   "outputs": [],
   "source": [
    "accuracy = np.zeros((10,15), dtype=float)\n",
    "#Hold out repetido\n",
    "for h in range(10):\n",
    "    X_train, X_test, y_train, y_test = train_test_split(X, y, test_size = 1/3 , stratify=y) #(evitamos inicializar random_state para el hold out repetido)\n",
    "    for k in range(1,16):\n",
    "        clf = KNeighborsClassifier(n_neighbors = k , algorithm='brute')\n",
    "        clf.fit(X_train, y_train)\n",
    "        accuracy[h, k-1]=clf.score(X_test,y_test)"
   ]
  },
  {
   "cell_type": "code",
   "execution_count": 13,
   "id": "1c0f8d43",
   "metadata": {},
   "outputs": [
    {
     "data": {
      "text/plain": [
       "(15,)"
      ]
     },
     "execution_count": 13,
     "metadata": {},
     "output_type": "execute_result"
    }
   ],
   "source": [
    "aciertos = np.mean(accuracy, axis=0)\n",
    "aciertos.shape"
   ]
  },
  {
   "cell_type": "code",
   "execution_count": 14,
   "id": "29314307",
   "metadata": {},
   "outputs": [
    {
     "data": {
      "text/plain": [
       "Text(0, 0.5, 'Aciertos')"
      ]
     },
     "execution_count": 14,
     "metadata": {},
     "output_type": "execute_result"
    },
    {
     "data": {
      "image/png": "[encoded data removed]",
      "text/plain": [
       "<Figure size 640x480 with 1 Axes>"
      ]
     },
     "metadata": {},
     "output_type": "display_data"
    }
   ],
   "source": [
    "fig, ax =plt.subplots()\n",
    "ax.bar(x=np.arange(1, 16), height=aciertos)\n",
    "ax.set_title('DataSet: DIGITS (1797)')\n",
    "ax.set_ylim(0.85,0.99)\n",
    "ax.set_xlabel('K - vecinos')\n",
    "ax.set_ylabel('Aciertos')"
   ]
  },
  {
   "cell_type": "code",
   "execution_count": 15,
   "id": "09d2d921",
   "metadata": {},
   "outputs": [
    {
     "name": "stdout",
     "output_type": "stream",
     "text": [
      "Kmax =  5 \tTasa max =  0.9010016694490819\n"
     ]
    }
   ],
   "source": [
    "print('Kmax = ',np.argmax(aciertos)+1, '\\tTasa max = ', np.max(aciertos))"
   ]
  },
  {
   "cell_type": "code",
   "execution_count": 16,
   "id": "72e12cf1",
   "metadata": {},
   "outputs": [
    {
     "name": "stdout",
     "output_type": "stream",
     "text": [
      ".. _digits_dataset:\n",
      "\n",
      "Optical recognition of handwritten digits dataset\n",
      "--------------------------------------------------\n",
      "\n",
      "**Data Set Characteristics:**\n",
      "\n",
      "    :Number of Instances: 1797\n",
      "    :Number of Attributes: 64\n",
      "    :Attribute Information: 8x8 image of integer pixels in the range 0..16.\n",
      "    :Missing Attribute Values: None\n",
      "    :Creator: E. Alpaydin (alpaydin '@' boun.edu.tr)\n",
      "    :Date: July; 1998\n",
      "\n",
      "This is a copy of the test set of the UCI ML hand-written digits datasets\n",
      "https://archive.ics.uci.edu/ml/datasets/Optical+Recognition+of+Handwritten+Digits\n",
      "\n",
      "The data set contains images of hand-written digits: 10 classes where\n",
      "each class refers to a digit.\n",
      "\n",
      "Preprocessing programs made available by NIST were used to extract\n",
      "normalized bitmaps of handwritten digits from a preprinted form. From a\n",
      "total of 43 people, 30 contributed to the training set and different 13\n",
      "to the test set. 32x32 bitmaps are divided into nonoverlapping blocks of\n",
      "4x4 and the number of on pixels are counted in each block. This generates\n",
      "an input matrix of 8x8 where each element is an integer in the range\n",
      "0..16. This reduces dimensionality and gives invariance to small\n",
      "distortions.\n",
      "\n",
      "For info on NIST preprocessing routines, see M. D. Garris, J. L. Blue, G.\n",
      "T. Candela, D. L. Dimmick, J. Geist, P. J. Grother, S. A. Janet, and C.\n",
      "L. Wilson, NIST Form-Based Handprint Recognition System, NISTIR 5469,\n",
      "1994.\n",
      "\n",
      ".. topic:: References\n",
      "\n",
      "  - C. Kaynak (1995) Methods of Combining Multiple Classifiers and Their\n",
      "    Applications to Handwritten Digit Recognition, MSc Thesis, Institute of\n",
      "    Graduate Studies in Science and Engineering, Bogazici University.\n",
      "  - E. Alpaydin, C. Kaynak (1998) Cascading Classifiers, Kybernetika.\n",
      "  - Ken Tang and Ponnuthurai N. Suganthan and Xi Yao and A. Kai Qin.\n",
      "    Linear dimensionalityreduction using relevance weighted LDA. School of\n",
      "    Electrical and Electronic Engineering Nanyang Technological University.\n",
      "    2005.\n",
      "  - Claudio Gentile. A New Approximate Maximal Margin Classification\n",
      "    Algorithm. NIPS. 2000.\n",
      "\n"
     ]
    }
   ],
   "source": [
    "print(digitos.DESCR)"
   ]
  }
 ],
 "metadata": {
  "kernelspec": {
   "display_name": "Python 3 (ipykernel)",
   "language": "python",
   "name": "python3"
  },
  "language_info": {
   "codemirror_mode": {
    "name": "ipython",
    "version": 3
   },
   "file_extension": ".py",
   "mimetype": "text/x-python",
   "name": "python",
   "nbconvert_exporter": "python",
   "pygments_lexer": "ipython3",
   "version": "3.9.13"
  }
 },
 "nbformat": 4,
 "nbformat_minor": 5
}
