{
 "cells": [
  {
   "cell_type": "code",
   "execution_count": 34,
   "id": "d95407a1",
   "metadata": {},
   "outputs": [],
   "source": [
    "import numpy as np\n",
    "from scipy.stats import entropy\n",
    "import pandas as pd\n",
    "from sklearn.tree import DecisionTreeClassifier, export_graphviz, export_text\n",
    "from re import findall, finditer\n",
    "from IPython.display import Image, display_png"
   ]
  },
  {
   "cell_type": "markdown",
   "id": "50d47475",
   "metadata": {},
   "source": [
    "<div class=\"alert alert-block alert-success\">\n",
    "<b>El siguiente código:</b> utiliza la librería Pandas de Python para crear un objeto de tipo DataFrame llamado \"tabla\". El objeto DataFrame se crea con 6 filas y 2 columnas, donde las columnas se llaman \"Presion\" y \"Clase\".\n",
    "\n",
    "La primera línea del código inicializa el DataFrame con las columnas \"Presion\" y \"Clase\" y la función \"np.arange(6)\" crea un índice numérico para las filas del DataFrame.\n",
    "\n",
    "La segunda línea asigna los valores de presión a la columna \"Presion\" y los valores de clase a la columna \"Clase\". En este caso, los valores de presión son [40, 48, 60, 72, 80, 90] y los valores de clase son ['+', '+', '-', '-', '-', '+'].</div>"
   ]
  },
  {
   "cell_type": "code",
   "execution_count": 35,
   "id": "c8ea9786",
   "metadata": {},
   "outputs": [
    {
     "data": {
      "text/html": [
       "<div>\n",
       "<style scoped>\n",
       "    .dataframe tbody tr th:only-of-type {\n",
       "        vertical-align: middle;\n",
       "    }\n",
       "\n",
       "    .dataframe tbody tr th {\n",
       "        vertical-align: top;\n",
       "    }\n",
       "\n",
       "    .dataframe thead th {\n",
       "        text-align: right;\n",
       "    }\n",
       "</style>\n",
       "<table border=\"1\" class=\"dataframe\">\n",
       "  <thead>\n",
       "    <tr style=\"text-align: right;\">\n",
       "      <th></th>\n",
       "      <th>Presion</th>\n",
       "      <th>Clase</th>\n",
       "    </tr>\n",
       "  </thead>\n",
       "  <tbody>\n",
       "    <tr>\n",
       "      <th>0</th>\n",
       "      <td>40</td>\n",
       "      <td>+</td>\n",
       "    </tr>\n",
       "    <tr>\n",
       "      <th>1</th>\n",
       "      <td>48</td>\n",
       "      <td>+</td>\n",
       "    </tr>\n",
       "    <tr>\n",
       "      <th>2</th>\n",
       "      <td>60</td>\n",
       "      <td>-</td>\n",
       "    </tr>\n",
       "    <tr>\n",
       "      <th>3</th>\n",
       "      <td>72</td>\n",
       "      <td>-</td>\n",
       "    </tr>\n",
       "    <tr>\n",
       "      <th>4</th>\n",
       "      <td>80</td>\n",
       "      <td>-</td>\n",
       "    </tr>\n",
       "    <tr>\n",
       "      <th>5</th>\n",
       "      <td>90</td>\n",
       "      <td>+</td>\n",
       "    </tr>\n",
       "  </tbody>\n",
       "</table>\n",
       "</div>"
      ],
      "text/plain": [
       "   Presion Clase\n",
       "0       40     +\n",
       "1       48     +\n",
       "2       60     -\n",
       "3       72     -\n",
       "4       80     -\n",
       "5       90     +"
      ]
     },
     "execution_count": 35,
     "metadata": {},
     "output_type": "execute_result"
    }
   ],
   "source": [
    "tabla = pd.DataFrame(columns = ['Presion','Clase'], index = np.arange(6))\n",
    "tabla.Presion = [40, 48, 60, 72, 80, 90]\n",
    "tabla.Clase = ['+', '+', '-', '-', '-', '+']\n",
    "tabla"
   ]
  },
  {
   "cell_type": "markdown",
   "id": "8eba5613",
   "metadata": {},
   "source": [
    "<div class=\"alert alert-block alert-success\">\n",
    "<b>El siguiente código:</b> se llama al método \"value_counts()\" en la columna \"Clase\" del DataFrame \"tabla\" y devuelve una serie que muestra la proporción de veces que aparece cada valor único en la columna \"Clase\".</div>"
   ]
  },
  {
   "cell_type": "code",
   "execution_count": 36,
   "id": "d0292cc3",
   "metadata": {},
   "outputs": [
    {
     "data": {
      "text/plain": [
       "+    0.5\n",
       "-    0.5\n",
       "Name: Clase, dtype: float64"
      ]
     },
     "execution_count": 36,
     "metadata": {},
     "output_type": "execute_result"
    }
   ],
   "source": [
    "tabla.Clase.value_counts(normalize=True)"
   ]
  },
  {
   "cell_type": "markdown",
   "id": "f50c73df",
   "metadata": {},
   "source": [
    "<div class=\"alert alert-block alert-success\">\n",
    "<b>El siguiente código:</b> calcula la entropía de la columna \"Clase\" del DataFrame \"tabla\" utilizando la función \"entropy()\" de la librería Scipy.</div>"
   ]
  },
  {
   "cell_type": "code",
   "execution_count": 37,
   "id": "ae3606fb",
   "metadata": {},
   "outputs": [
    {
     "data": {
      "text/plain": [
       "1.0"
      ]
     },
     "execution_count": 37,
     "metadata": {},
     "output_type": "execute_result"
    }
   ],
   "source": [
    "H = entropy(tabla.Clase.value_counts(normalize = True), base = 2)\n",
    "H"
   ]
  },
  {
   "cell_type": "markdown",
   "id": "383f3f55",
   "metadata": {},
   "source": [
    "<div class=\"alert alert-block alert-success\">\n",
    "<b>El siguiente código:</b> crea un ataFrame \"tabla1\" con dos columnas, \"Presion\" y \"Clase\", donde los valores de la columna \"Presion\" han sido discretizados utilizando el bin [(48 + 60) / 2] y se ha asignado una nueva categoría a cada valor de la columna.</div>"
   ]
  },
  {
   "cell_type": "code",
   "execution_count": 38,
   "id": "a7a8d615",
   "metadata": {},
   "outputs": [
    {
     "data": {
      "text/html": [
       "<div>\n",
       "<style scoped>\n",
       "    .dataframe tbody tr th:only-of-type {\n",
       "        vertical-align: middle;\n",
       "    }\n",
       "\n",
       "    .dataframe tbody tr th {\n",
       "        vertical-align: top;\n",
       "    }\n",
       "\n",
       "    .dataframe thead th {\n",
       "        text-align: right;\n",
       "    }\n",
       "</style>\n",
       "<table border=\"1\" class=\"dataframe\">\n",
       "  <thead>\n",
       "    <tr style=\"text-align: right;\">\n",
       "      <th></th>\n",
       "      <th>Presion</th>\n",
       "      <th>Clase</th>\n",
       "    </tr>\n",
       "  </thead>\n",
       "  <tbody>\n",
       "    <tr>\n",
       "      <th>0</th>\n",
       "      <td>0</td>\n",
       "      <td>+</td>\n",
       "    </tr>\n",
       "    <tr>\n",
       "      <th>1</th>\n",
       "      <td>0</td>\n",
       "      <td>+</td>\n",
       "    </tr>\n",
       "    <tr>\n",
       "      <th>2</th>\n",
       "      <td>1</td>\n",
       "      <td>-</td>\n",
       "    </tr>\n",
       "    <tr>\n",
       "      <th>3</th>\n",
       "      <td>1</td>\n",
       "      <td>-</td>\n",
       "    </tr>\n",
       "    <tr>\n",
       "      <th>4</th>\n",
       "      <td>1</td>\n",
       "      <td>-</td>\n",
       "    </tr>\n",
       "    <tr>\n",
       "      <th>5</th>\n",
       "      <td>1</td>\n",
       "      <td>+</td>\n",
       "    </tr>\n",
       "  </tbody>\n",
       "</table>\n",
       "</div>"
      ],
      "text/plain": [
       "   Presion Clase\n",
       "0        0     +\n",
       "1        0     +\n",
       "2        1     -\n",
       "3        1     -\n",
       "4        1     -\n",
       "5        1     +"
      ]
     },
     "execution_count": 38,
     "metadata": {},
     "output_type": "execute_result"
    }
   ],
   "source": [
    "tabla1 = tabla\n",
    "tabla1.Presion = np.digitize(tabla.Presion, bins = [(48 + 60) / 2])\n",
    "tabla1"
   ]
  },
  {
   "cell_type": "markdown",
   "id": "09d140b3",
   "metadata": {},
   "source": [
    "<div class=\"alert alert-block alert-success\">\n",
    "<b>En el siguiente código:</b> Para cada valor único de la columna \"Presion\" en \"tabla1\", el código crea un nuevo DataFrame llamado \"Class1\" que contiene solo las filas del DataFrame \"tabla1\" donde la columna \"Presion\" es igual a ese valor. Luego, el código calcula la entropía de la columna \"Clase\" en este nuevo DataFrame \"Class1\" y resta el resultado de la entropía de \"Class1\" ponderada por la proporción de filas en \"Class1\" en relación al total de filas en \"tabla1\". Esto se hace para cada valor único de la columna \"Presion\" en \"tabla1\".</div>"
   ]
  },
  {
   "cell_type": "code",
   "execution_count": 39,
   "id": "0ce3c953",
   "metadata": {},
   "outputs": [
    {
     "data": {
      "text/plain": [
       "0.4591479170272448"
      ]
     },
     "execution_count": 39,
     "metadata": {},
     "output_type": "execute_result"
    }
   ],
   "source": [
    "l1 = len(tabla1)\n",
    "G1 = H\n",
    "for v in tabla1.Presion.unique():\n",
    "    Class1 = tabla1.loc[tabla.Presion == v]\n",
    "    G1 -= (len(Class1)/l1)*entropy(Class1.iloc[:, -1].value_counts(normalize=True), base = 2)\n",
    "G1"
   ]
  },
  {
   "cell_type": "code",
   "execution_count": 40,
   "id": "8ce6cc04",
   "metadata": {},
   "outputs": [
    {
     "data": {
      "text/html": [
       "<div>\n",
       "<style scoped>\n",
       "    .dataframe tbody tr th:only-of-type {\n",
       "        vertical-align: middle;\n",
       "    }\n",
       "\n",
       "    .dataframe tbody tr th {\n",
       "        vertical-align: top;\n",
       "    }\n",
       "\n",
       "    .dataframe thead th {\n",
       "        text-align: right;\n",
       "    }\n",
       "</style>\n",
       "<table border=\"1\" class=\"dataframe\">\n",
       "  <thead>\n",
       "    <tr style=\"text-align: right;\">\n",
       "      <th></th>\n",
       "      <th>Presion</th>\n",
       "      <th>Clase</th>\n",
       "    </tr>\n",
       "  </thead>\n",
       "  <tbody>\n",
       "    <tr>\n",
       "      <th>0</th>\n",
       "      <td>40</td>\n",
       "      <td>+</td>\n",
       "    </tr>\n",
       "    <tr>\n",
       "      <th>1</th>\n",
       "      <td>48</td>\n",
       "      <td>+</td>\n",
       "    </tr>\n",
       "    <tr>\n",
       "      <th>2</th>\n",
       "      <td>60</td>\n",
       "      <td>-</td>\n",
       "    </tr>\n",
       "    <tr>\n",
       "      <th>3</th>\n",
       "      <td>72</td>\n",
       "      <td>-</td>\n",
       "    </tr>\n",
       "    <tr>\n",
       "      <th>4</th>\n",
       "      <td>80</td>\n",
       "      <td>-</td>\n",
       "    </tr>\n",
       "    <tr>\n",
       "      <th>5</th>\n",
       "      <td>90</td>\n",
       "      <td>+</td>\n",
       "    </tr>\n",
       "  </tbody>\n",
       "</table>\n",
       "</div>"
      ],
      "text/plain": [
       "   Presion Clase\n",
       "0       40     +\n",
       "1       48     +\n",
       "2       60     -\n",
       "3       72     -\n",
       "4       80     -\n",
       "5       90     +"
      ]
     },
     "execution_count": 40,
     "metadata": {},
     "output_type": "execute_result"
    }
   ],
   "source": [
    "tabla.Presion = [40, 48, 60, 72, 80, 90]\n",
    "tabla"
   ]
  },
  {
   "cell_type": "markdown",
   "id": "767f0a32",
   "metadata": {},
   "source": [
    "<div class=\"alert alert-block alert-success\">\n",
    "<b>El siguiente código:</b> crea un ataFrame \"tabla1\" con dos columnas, \"Presion\" y \"Clase\", donde los valores de la columna \"Presion\" han sido discretizados utilizando el bin [(80 + 90) / 2] y se ha asignado una nueva categoría a cada valor de la columna.</div>"
   ]
  },
  {
   "cell_type": "code",
   "execution_count": 41,
   "id": "93b7bb15",
   "metadata": {},
   "outputs": [
    {
     "data": {
      "text/html": [
       "<div>\n",
       "<style scoped>\n",
       "    .dataframe tbody tr th:only-of-type {\n",
       "        vertical-align: middle;\n",
       "    }\n",
       "\n",
       "    .dataframe tbody tr th {\n",
       "        vertical-align: top;\n",
       "    }\n",
       "\n",
       "    .dataframe thead th {\n",
       "        text-align: right;\n",
       "    }\n",
       "</style>\n",
       "<table border=\"1\" class=\"dataframe\">\n",
       "  <thead>\n",
       "    <tr style=\"text-align: right;\">\n",
       "      <th></th>\n",
       "      <th>Presion</th>\n",
       "      <th>Clase</th>\n",
       "    </tr>\n",
       "  </thead>\n",
       "  <tbody>\n",
       "    <tr>\n",
       "      <th>0</th>\n",
       "      <td>0</td>\n",
       "      <td>+</td>\n",
       "    </tr>\n",
       "    <tr>\n",
       "      <th>1</th>\n",
       "      <td>0</td>\n",
       "      <td>+</td>\n",
       "    </tr>\n",
       "    <tr>\n",
       "      <th>2</th>\n",
       "      <td>0</td>\n",
       "      <td>-</td>\n",
       "    </tr>\n",
       "    <tr>\n",
       "      <th>3</th>\n",
       "      <td>0</td>\n",
       "      <td>-</td>\n",
       "    </tr>\n",
       "    <tr>\n",
       "      <th>4</th>\n",
       "      <td>0</td>\n",
       "      <td>-</td>\n",
       "    </tr>\n",
       "    <tr>\n",
       "      <th>5</th>\n",
       "      <td>1</td>\n",
       "      <td>+</td>\n",
       "    </tr>\n",
       "  </tbody>\n",
       "</table>\n",
       "</div>"
      ],
      "text/plain": [
       "   Presion Clase\n",
       "0        0     +\n",
       "1        0     +\n",
       "2        0     -\n",
       "3        0     -\n",
       "4        0     -\n",
       "5        1     +"
      ]
     },
     "execution_count": 41,
     "metadata": {},
     "output_type": "execute_result"
    }
   ],
   "source": [
    "tabla2 = tabla\n",
    "tabla2.Presion = np.digitize(tabla.Presion, bins = [(80 + 90) / 2])\n",
    "tabla2"
   ]
  },
  {
   "cell_type": "markdown",
   "id": "6467fca0",
   "metadata": {},
   "source": [
    "<div class=\"alert alert-block alert-success\">\n",
    "<b>El siguiente código:</b> se repite lo que se ha hecho anteriormente con tabla1</div>"
   ]
  },
  {
   "cell_type": "code",
   "execution_count": 42,
   "id": "713afa99",
   "metadata": {},
   "outputs": [
    {
     "data": {
      "text/plain": [
       "0.19087450462110933"
      ]
     },
     "execution_count": 42,
     "metadata": {},
     "output_type": "execute_result"
    }
   ],
   "source": [
    "l2 = len(tabla2)\n",
    "G2 = H\n",
    "for v in tabla2.Presion.unique():\n",
    "    Class2 = tabla2.loc[tabla2.Presion == v]\n",
    "    G2 -= (len(Class2) / l2) * entropy(Class2.iloc[:, -1].value_counts(normalize = True), base = 2)\n",
    "G2"
   ]
  },
  {
   "cell_type": "code",
   "execution_count": 43,
   "id": "e9fc58ef",
   "metadata": {},
   "outputs": [
    {
     "data": {
      "text/html": [
       "<div>\n",
       "<style scoped>\n",
       "    .dataframe tbody tr th:only-of-type {\n",
       "        vertical-align: middle;\n",
       "    }\n",
       "\n",
       "    .dataframe tbody tr th {\n",
       "        vertical-align: top;\n",
       "    }\n",
       "\n",
       "    .dataframe thead th {\n",
       "        text-align: right;\n",
       "    }\n",
       "</style>\n",
       "<table border=\"1\" class=\"dataframe\">\n",
       "  <thead>\n",
       "    <tr style=\"text-align: right;\">\n",
       "      <th></th>\n",
       "      <th>Presion</th>\n",
       "      <th>Clase</th>\n",
       "    </tr>\n",
       "  </thead>\n",
       "  <tbody>\n",
       "    <tr>\n",
       "      <th>0</th>\n",
       "      <td>40</td>\n",
       "      <td>+</td>\n",
       "    </tr>\n",
       "    <tr>\n",
       "      <th>1</th>\n",
       "      <td>48</td>\n",
       "      <td>+</td>\n",
       "    </tr>\n",
       "    <tr>\n",
       "      <th>2</th>\n",
       "      <td>60</td>\n",
       "      <td>-</td>\n",
       "    </tr>\n",
       "    <tr>\n",
       "      <th>3</th>\n",
       "      <td>72</td>\n",
       "      <td>-</td>\n",
       "    </tr>\n",
       "    <tr>\n",
       "      <th>4</th>\n",
       "      <td>80</td>\n",
       "      <td>-</td>\n",
       "    </tr>\n",
       "    <tr>\n",
       "      <th>5</th>\n",
       "      <td>90</td>\n",
       "      <td>+</td>\n",
       "    </tr>\n",
       "  </tbody>\n",
       "</table>\n",
       "</div>"
      ],
      "text/plain": [
       "   Presion Clase\n",
       "0       40     +\n",
       "1       48     +\n",
       "2       60     -\n",
       "3       72     -\n",
       "4       80     -\n",
       "5       90     +"
      ]
     },
     "execution_count": 43,
     "metadata": {},
     "output_type": "execute_result"
    }
   ],
   "source": [
    "tabla.Presion = [40, 48, 60, 72, 80, 90]\n",
    "tabla"
   ]
  },
  {
   "cell_type": "markdown",
   "id": "78893701",
   "metadata": {},
   "source": [
    "<div class=\"alert alert-block alert-success\">\n",
    "<b>El siguiente código:</b> crea un clasificador de árbol de decisión que utilizará la ganancia de información basada en la entropía como medida de calidad de las divisiones, y tendrá como máximo 2 nodos hoja.</div>"
   ]
  },
  {
   "cell_type": "code",
   "execution_count": 44,
   "id": "5ef4fa20",
   "metadata": {},
   "outputs": [],
   "source": [
    "clf = DecisionTreeClassifier(criterion = 'entropy',max_leaf_nodes=2)"
   ]
  },
  {
   "cell_type": "markdown",
   "id": "23eed8e3",
   "metadata": {},
   "source": [
    "<div class=\"alert alert-block alert-success\">\n",
    "<b>El siguiente código:</b> ajusta el clasificador de árbol de decisión \"clf\" creado anteriormente a los datos de entrada. En particular, el clasificador se ajusta utilizando la función \"fit()\" de la librería scikit-learn.\n",
    "\n",
    "La entrada de la función \"fit()\" son los datos de la columna \"Presion\" del DataFrame \"tabla\", que se convierten en un array numpy utilizando la función \"np.array()\". Además, la función \"reshape()\" se utiliza para cambiar la forma del array numpy a una matriz con una sola columna, ya que la función \"fit()\" espera una matriz de características en el formato (n_samples, n_features).</div>"
   ]
  },
  {
   "cell_type": "code",
   "execution_count": 45,
   "id": "35feded5",
   "metadata": {},
   "outputs": [
    {
     "data": {
      "text/plain": [
       "DecisionTreeClassifier(criterion='entropy', max_leaf_nodes=2)"
      ]
     },
     "execution_count": 45,
     "metadata": {},
     "output_type": "execute_result"
    }
   ],
   "source": [
    "clf.fit(np.array(tabla.Presion).reshape(-1, 1), tabla.Clase)"
   ]
  },
  {
   "cell_type": "markdown",
   "id": "34878540",
   "metadata": {},
   "source": [
    "<div class=\"alert alert-block alert-success\">\n",
    "<b>El siguiente código:</b> utiliza la función \"export_text()\" de la librería scikit-learn para generar una representación en formato de texto del árbol de decisión ajustado por el clasificador \"clf\".</div>"
   ]
  },
  {
   "cell_type": "code",
   "execution_count": 46,
   "id": "4815a529",
   "metadata": {},
   "outputs": [
    {
     "name": "stdout",
     "output_type": "stream",
     "text": [
      "|--- Presion <= 54.00\n",
      "|   |--- class: +\n",
      "|--- Presion >  54.00\n",
      "|   |--- class: -\n",
      "\n"
     ]
    }
   ],
   "source": [
    "txt = export_text(clf, feature_names=['Presion'])\n",
    "print(txt)"
   ]
  },
  {
   "cell_type": "code",
   "execution_count": 47,
   "id": "68b4ad82",
   "metadata": {},
   "outputs": [],
   "source": [
    "export_graphviz(decision_tree=clf, out_file='Presion.dot', class_names= tabla.Clase)"
   ]
  },
  {
   "cell_type": "code",
   "execution_count": 48,
   "id": "ace9adfa",
   "metadata": {},
   "outputs": [
    {
     "data": {
      "image/png": "[encoded data removed]"
     },
     "metadata": {},
     "output_type": "display_data"
    }
   ],
   "source": [
    "img = Image(filename='Presion.png')\n",
    "display_png(img)"
   ]
  },
  {
   "cell_type": "markdown",
   "id": "55b262d0",
   "metadata": {},
   "source": [
    "# SEGUNDA PARTE"
   ]
  },
  {
   "cell_type": "markdown",
   "id": "502731ee",
   "metadata": {},
   "source": [
    "Ejercicio 2.1\n",
    "\n",
    "No se puede usar el algoritmo ID3 directamente en un conjunto de datos que contiene atributos con valores decimales, ya que estos son continuos y no discretos. Esto resulta en demasiados valores distintos para un solo atributo, lo que dificulta la construcción de un árbol de decisión. Se deben preprocesar los datos para convertir los atributos con valores decimales en atributos discretos antes de aplicar el algoritmo ID3. Los atributos que tienen valores decimales son: PRE4, PRE5 (racionales) y AGE(entero)."
   ]
  },
  {
   "cell_type": "markdown",
   "id": "80b73c62",
   "metadata": {},
   "source": [
    "Ejercicio 2.2"
   ]
  },
  {
   "cell_type": "code",
   "execution_count": 49,
   "id": "b651dc8f",
   "metadata": {},
   "outputs": [
    {
     "data": {
      "text/plain": [
       "'PRE9 = T\\n|   PRE11 = T: T (2.0)\\n|   PRE11 = F\\n|   |   PRE6 = PRZ2\\n|   |   |   DGN = DGN3: F (1.0)\\n|   |   |   DGN = DGN2: T (0.0)\\n|   |   |   DGN = DGN4: T (1.0)\\n|   |   |   DGN = DGN6: T (0.0)\\n|   |   |   DGN = DGN5: T (0.0)\\n|   |   |   DGN = DGN8: T (0.0)\\n|   |   |   DGN = DGN1: T (0.0)\\n|   |   PRE6 = PRZ1\\n|   |   |   PRE10 = T\\n|   |   |   |   PRE7 = T\\n|   |   |   |   |   PRE4 <= 3.58: F (1.0)\\n|   |   |   |   |   PRE4 > 3.58: T (1.0)\\n|   |   |   |   PRE7 = F\\n|   |   |   |   |   PRE8 = T\\n|   |   |   |   |   |   PRE14 = OC11: F (0.0)\\n|   |   |   |   |   |   PRE14 = OC14: F (0.0)\\n|   |   |   |   |   |   PRE14 = OC12\\n|   |   |   |   |   |   |   PRE4 <= 3.88: F (3.0)\\n|   |   |   |   |   |   |   PRE4 > 3.88: T (1.0)\\n|   |   |   |   |   |   PRE14 = OC13: T (1.0)\\n|   |   |   |   |   PRE8 = F: F (11.0)\\n|   |   |   PRE10 = F: F (5.0)\\n|   |   PRE6 = PRZ0\\n|   |   |   PRE4 <= 4.28: T (3.0)\\n|   |   |   PRE4 > 4.28: F (1.0)\\nPRE9 = F\\n|   PRE17 = T\\n|   |   PRE25 = T: T (1.0)\\n|   |   PRE25 = F\\n|   |   |   PRE8 = T\\n|   |   |   |   PRE6 = PRZ2: T (0.0)\\n|   |   |   |   PRE6 = PRZ1: T (2.0)\\n|   |   |   |   PRE6 = PRZ0: F (1.0)\\n|   |   |   PRE8 = F\\n|   |   |   |   AGE <= 65\\n|   |   |   |   |   PRE11 = T: T (3.0)\\n|   |   |   |   |   PRE11 = F\\n|   |   |   |   |   |   PRE14 = OC11: F (5.0)\\n|   |   |   |   |   |   PRE14 = OC14: T (1.0)\\n|   |   |   |   |   |   PRE14 = OC12\\n|   |   |   |   |   |   |   AGE <= 62\\n|   |   |   |   |   |   |   |   PRE4 <= 4.16: F (6.0)\\n|   |   |   |   |   |   |   |   PRE4 > 4.16: T (1.0)\\n|   |   |   |   |   |   |   AGE > 62: T (2.0)\\n|   |   |   |   |   |   PRE14 = OC13: F (0.0)\\n|   |   |   |   AGE > 65: F (12.0)\\n|   PRE17 = F\\n|   |   DGN = DGN3\\n|   |   |   PRE7 = T\\n|   |   |   |   PRE11 = T: T (1.0)\\n|   |   |   |   PRE11 = F\\n|   |   |   |   |   PRE10 = T\\n|   |   |   |   |   |   PRE14 = OC11: F (3.0)\\n|   |   |   |   |   |   PRE14 = OC14: F (0.0)\\n|   |   |   |   |   |   PRE14 = OC12\\n|   |   |   |   |   |   |   PRE8 = T: F (2.0)\\n|   |   |   |   |   |   |   PRE8 = F\\n|   |   |   |   |   |   |   |   PRE4 <= 3.12: T (1.0)\\n|   |   |   |   |   |   |   |   PRE4 > 3.12: F (3.0)\\n|   |   |   |   |   |   PRE14 = OC13: F (3.0)\\n|   |   |   |   |   PRE10 = F\\n|   |   |   |   |   |   PRE14 = OC11: F (2.0)\\n|   |   |   |   |   |   PRE14 = OC14: T (1.0)\\n|   |   |   |   |   |   PRE14 = OC12: T (2.0)\\n|   |   |   |   |   |   PRE14 = OC13: T (0.0)\\n|   |   |   PRE7 = F\\n|   |   |   |   PRE14 = OC11\\n|   |   |   |   |   PRE8 = T\\n|   |   |   |   |   |   PRE10 = T\\n|   |   |   |   |   |   |   PRE6 = PRZ2\\n|   |   |   |   |   |   |   |   PRE4 <= 2.48: T (1.0)\\n|   |   |   |   |   |   |   |   PRE4 > 2.48: F (2.0)\\n|   |   |   |   |   |   |   PRE6 = PRZ1\\n|   |   |   |   |   |   |   |   PRE4 <= 3.8: F (4.0)\\n|   |   |   |   |   |   |   |   PRE4 > 3.8: T (1.0)\\n|   |   |   |   |   |   |   PRE6 = PRZ0: F (1.0)\\n|   |   |   |   |   |   PRE10 = F: F (1.0)\\n|   |   |   |   |   PRE8 = F\\n|   |   |   |   |   |   PRE11 = T\\n|   |   |   |   |   |   |   PRE30 = T\\n|   |   |   |   |   |   |   |   PRE6 = PRZ2\\n|   |   |   |   |   |   |   |   |   AGE <= 71: F (2.0)\\n|   |   |   |   |   |   |   |   |   AGE > 71: T (1.0)\\n|   |   |   |   |   |   |   |   PRE6 = PRZ1\\n|   |   |   |   |   |   |   |   |   PRE4 <= 3.28: F (9.0)\\n|   |   |   |   |   |   |   |   |   PRE4 > 3.28: T (1.0)\\n|   |   |   |   |   |   |   |   PRE6 = PRZ0: F (0.0)\\n|   |   |   |   |   |   |   PRE30 = F: F (2.0)\\n|   |   |   |   |   |   PRE11 = F\\n|   |   |   |   |   |   |   PRE30 = T\\n|   |   |   |   |   |   |   |   PRE6 = PRZ2: F (0.0)\\n|   |   |   |   |   |   |   |   PRE6 = PRZ1\\n|   |   |   |   |   |   |   |   |   PRE10 = T\\n|   |   |   |   |   |   |   |   |   |   PRE19 = T: F (1.0)\\n|   |   |   |   |   |   |   |   |   |   PRE19 = F: F (41.0/1.0)\\n|   |   |   |   |   |   |   |   |   PRE10 = F: F (2.0)\\n|   |   |   |   |   |   |   |   PRE6 = PRZ0\\n|   |   |   |   |   |   |   |   |   PRE10 = T: F (2.0)\\n|   |   |   |   |   |   |   |   |   PRE10 = F\\n|   |   |   |   |   |   |   |   |   |   PRE25 = T: F (1.0)\\n|   |   |   |   |   |   |   |   |   |   PRE25 = F: F (33.0/2.0)\\n|   |   |   |   |   |   |   PRE30 = F: F (16.0)\\n|   |   |   |   PRE14 = OC14\\n|   |   |   |   |   PRE6 = PRZ2: F (1.0)\\n|   |   |   |   |   PRE6 = PRZ1\\n|   |   |   |   |   |   PRE11 = T: F (1.0)\\n|   |   |   |   |   |   PRE11 = F\\n|   |   |   |   |   |   |   AGE <= 45: T (1.0)\\n|   |   |   |   |   |   |   AGE > 45\\n|   |   |   |   |   |   |   |   PRE5 <= 1.6: T (1.0)\\n|   |   |   |   |   |   |   |   PRE5 > 1.6: F (2.0)\\n|   |   |   |   |   PRE6 = PRZ0: T (1.0)\\n|   |   |   |   PRE14 = OC12\\n|   |   |   |   |   PRE30 = T\\n|   |   |   |   |   |   PRE10 = T\\n|   |   |   |   |   |   |   PRE6 = PRZ2: F (4.0)\\n|   |   |   |   |   |   |   PRE6 = PRZ1\\n|   |   |   |   |   |   |   |   PRE25 = T: F (2.0)\\n|   |   |   |   |   |   |   |   PRE25 = F\\n|   |   |   |   |   |   |   |   |   PRE11 = T\\n|   |   |   |   |   |   |   |   |   |   PRE8 = T: F (3.0)\\n|   |   |   |   |   |   |   |   |   |   PRE8 = F\\n|   |   |   |   |   |   |   |   |   |   |   PRE19 = T: F (1.0)\\n|   |   |   |   |   |   |   |   |   |   |   PRE19 = F: F (12.0/1.0)\\n|   |   |   |   |   |   |   |   |   PRE11 = F\\n|   |   |   |   |   |   |   |   |   |   PRE8 = T\\n|   |   |   |   |   |   |   |   |   |   |   PRE4 <= 2.88\\n|   |   |   |   |   |   |   |   |   |   |   |   PRE4 <= 2.4: F (1.0)\\n|   |   |   |   |   |   |   |   |   |   |   |   PRE4 > 2.4: T (2.0)\\n|   |   |   |   |   |   |   |   |   |   |   PRE4 > 2.88: F (4.0)\\n|   |   |   |   |   |   |   |   |   |   PRE8 = F: F (67.0/10.0)\\n|   |   |   |   |   |   |   PRE6 = PRZ0: F (2.0)\\n|   |   |   |   |   |   PRE10 = F\\n|   |   |   |   |   |   |   PRE6 = PRZ2: F (0.0)\\n|   |   |   |   |   |   |   PRE6 = PRZ1: F (5.0)\\n|   |   |   |   |   |   |   PRE6 = PRZ0\\n|   |   |   |   |   |   |   |   PRE8 = T: F (1.0)\\n|   |   |   |   |   |   |   |   PRE8 = F\\n|   |   |   |   |   |   |   |   |   PRE32 = T: F (1.0)\\n|   |   |   |   |   |   |   |   |   PRE32 = F: F (23.0/1.0)\\n|   |   |   |   |   PRE30 = F: F (22.0)\\n|   |   |   |   PRE14 = OC13\\n|   |   |   |   |   PRE10 = T\\n|   |   |   |   |   |   PRE11 = T: F (2.0)\\n|   |   |   |   |   |   PRE11 = F\\n|   |   |   |   |   |   |   PRE5 <= 1.72: F (1.0)\\n|   |   |   |   |   |   |   PRE5 > 1.72\\n|   |   |   |   |   |   |   |   PRE4 <= 2.76: T (1.0)\\n|   |   |   |   |   |   |   |   PRE4 > 2.76: F (1.0)\\n|   |   |   |   |   PRE10 = F: T (1.0)\\n|   |   DGN = DGN2\\n|   |   |   PRE25 = T: T (1.0)\\n|   |   |   PRE25 = F\\n|   |   |   |   PRE30 = T\\n|   |   |   |   |   PRE10 = T\\n|   |   |   |   |   |   PRE6 = PRZ2\\n|   |   |   |   |   |   |   AGE <= 75: F (3.0)\\n|   |   |   |   |   |   |   AGE > 75: T (1.0)\\n|   |   |   |   |   |   PRE6 = PRZ1\\n|   |   |   |   |   |   |   PRE14 = OC11: F (4.0)\\n|   |   |   |   |   |   |   PRE14 = OC14: F (3.0)\\n|   |   |   |   |   |   |   PRE14 = OC12\\n|   |   |   |   |   |   |   |   PRE8 = T\\n|   |   |   |   |   |   |   |   |   PRE11 = T: T (1.0)\\n|   |   |   |   |   |   |   |   |   PRE11 = F: F (5.0)\\n|   |   |   |   |   |   |   |   PRE8 = F\\n|   |   |   |   |   |   |   |   |   PRE11 = T: F (1.0)\\n|   |   |   |   |   |   |   |   |   PRE11 = F\\n|   |   |   |   |   |   |   |   |   |   PRE5 <= 1.92: F (1.0)\\n|   |   |   |   |   |   |   |   |   |   PRE5 > 1.92: T (4.0)\\n|   |   |   |   |   |   |   PRE14 = OC13: F (2.0)\\n|   |   |   |   |   |   PRE6 = PRZ0: T (2.0)\\n|   |   |   |   |   PRE10 = F\\n|   |   |   |   |   |   PRE11 = T\\n|   |   |   |   |   |   |   PRE4 <= 3.84: F (1.0)\\n|   |   |   |   |   |   |   PRE4 > 3.84: T (1.0)\\n|   |   |   |   |   |   PRE11 = F: F (8.0)\\n|   |   |   |   PRE30 = F: F (6.0)\\n|   |   DGN = DGN4\\n|   |   |   PRE11 = T\\n|   |   |   |   PRE6 = PRZ2: T (1.0)\\n|   |   |   |   PRE6 = PRZ1\\n|   |   |   |   |   PRE8 = T: T (1.0)\\n|   |   |   |   |   PRE8 = F: F (3.0)\\n|   |   |   |   PRE6 = PRZ0: F (0.0)\\n|   |   |   PRE11 = F\\n|   |   |   |   PRE14 = OC11: F (10.0)\\n|   |   |   |   PRE14 = OC14: F (0.0)\\n|   |   |   |   PRE14 = OC12\\n|   |   |   |   |   PRE5 <= 2.04\\n|   |   |   |   |   |   PRE30 = T\\n|   |   |   |   |   |   |   PRE6 = PRZ2: T (0.0)\\n|   |   |   |   |   |   |   PRE6 = PRZ1\\n|   |   |   |   |   |   |   |   PRE5 <= 1.96: F (2.0)\\n|   |   |   |   |   |   |   |   PRE5 > 1.96: T (1.0)\\n|   |   |   |   |   |   |   PRE6 = PRZ0: T (1.0)\\n|   |   |   |   |   |   PRE30 = F: F (1.0)\\n|   |   |   |   |   PRE5 > 2.04: F (19.0)\\n|   |   |   |   PRE14 = OC13: F (1.0)\\n|   |   DGN = DGN6: F (4.0)\\n|   |   DGN = DGN5\\n|   |   |   PRE8 = T: F (3.0)\\n|   |   |   PRE8 = F\\n|   |   |   |   PRE30 = T\\n|   |   |   |   |   AGE <= 66\\n|   |   |   |   |   |   PRE14 = OC11: T (3.0)\\n|   |   |   |   |   |   PRE14 = OC14: T (0.0)\\n|   |   |   |   |   |   PRE14 = OC12\\n|   |   |   |   |   |   |   PRE4 <= 2.76: T (1.0)\\n|   |   |   |   |   |   |   PRE4 > 2.76: F (1.0)\\n|   |   |   |   |   |   PRE14 = OC13: T (1.0)\\n|   |   |   |   |   AGE > 66: F (2.0)\\n|   |   |   |   PRE30 = F: F (1.0)\\n|   |   DGN = DGN8\\n|   |   |   PRE4 <= 4.76: T (1.0)\\n|   |   |   PRE4 > 4.76: F (1.0)\\n|   |   DGN = DGN1: F (1.0)\\n'"
      ]
     },
     "execution_count": 49,
     "metadata": {},
     "output_type": "execute_result"
    }
   ],
   "source": [
    "f= open('thoracic_tree.txt')\n",
    "contenido=f.read()\n",
    "f.close()\n",
    "contenido"
   ]
  },
  {
   "cell_type": "markdown",
   "id": "52eb81d7",
   "metadata": {},
   "source": [
    "¿Se podría prescindir de algún atributo?\n",
    "\n",
    "Sí, para determinar los atributos que son prescindibles, en Weka realizamos los siguientes pasos: primero, seleccionamos \"Select attributes\" en las opciones de arriba, y luego, en la pestaña correspondiente, elegimos \"Choose (Attribute Evaluator)\" y seleccionamos \"InfoGainAttributeEval\". Después, seleccionamos \"Use full training set\" y escogemos la clase \"RiskYr\" que es la variable que queremos clasificar. Finalmente, hacemos clic en \"Start\" y podemos observar en la sección \"Ranked attributes\" que hay tres atributos con una ganancia de información de 0: PRE4, PRE5 y AGE."
   ]
  },
  {
   "cell_type": "code",
   "execution_count": 50,
   "id": "495f4f48",
   "metadata": {},
   "outputs": [
    {
     "data": {
      "text/plain": [
       "'PRE9 = T\\\\n|   PRE11 = T: T (2.0)\\\\n|   PRE11 = F\\\\n|   |   PRE6 = PRZ2: T (2.0/1.0)\\\\n|   |   PRE6 = PRZ1\\\\n|   |   |   PRE10 = T\\\\n|   |   |   |   PRE7 = T: T (2.0/1.0)\\\\n|   |   |   |   PRE7 = F\\\\n|   |   |   |   |   PRE8 = T\\\\n|   |   |   |   |   |   DGN = DGN3: T (3.0/1.0)\\\\n|   |   |   |   |   |   DGN = DGN2: F (2.0)\\\\n|   |   |   |   |   |   DGN = DGN4: F (0.0)\\\\n|   |   |   |   |   |   DGN = DGN6: F (0.0)\\\\n|   |   |   |   |   |   DGN = DGN5: F (0.0)\\\\n|   |   |   |   |   |   DGN = DGN8: F (0.0)\\\\n|   |   |   |   |   |   DGN = DGN1: F (0.0)\\\\n|   |   |   |   |   PRE8 = F: F (11.0)\\\\n|   |   |   PRE10 = F: F (5.0)\\\\n|   |   PRE6 = PRZ0: T (4.0/1.0)\\\\nPRE9 = F\\\\n|   PRE17 = T\\\\n|   |   PRE8 = T: T (4.0/1.0)\\\\n|   |   PRE8 = F\\\\n|   |   |   PRE14 = OC11: F (10.0/1.0)\\\\n|   |   |   PRE14 = OC14: T (2.0/1.0)\\\\n|   |   |   PRE14 = OC12\\\\n|   |   |   |   PRE30 = T\\\\n|   |   |   |   |   PRE11 = T: T (3.0/1.0)\\\\n|   |   |   |   |   PRE11 = F: F (12.0/3.0)\\\\n|   |   |   |   PRE30 = F: F (3.0)\\\\n|   |   |   PRE14 = OC13: F (0.0)\\\\n|   PRE17 = F\\\\n|   |   DGN = DGN3\\\\n|   |   |   PRE7 = T\\\\n|   |   |   |   PRE10 = T: F (13.0/2.0)\\\\n|   |   |   |   PRE10 = F\\\\n|   |   |   |   |   PRE14 = OC11: F (2.0)\\\\n|   |   |   |   |   PRE14 = OC14: T (1.0)\\\\n|   |   |   |   |   PRE14 = OC12: T (2.0)\\\\n|   |   |   |   |   PRE14 = OC13: T (0.0)\\\\n|   |   |   PRE7 = F: F (284.0/26.0)\\\\n|   |   DGN = DGN2\\\\n|   |   |   PRE30 = T\\\\n|   |   |   |   PRE10 = T\\\\n|   |   |   |   |   PRE6 = PRZ2: F (4.0/1.0)\\\\n|   |   |   |   |   PRE6 = PRZ1\\\\n|   |   |   |   |   |   PRE14 = OC11: F (5.0/1.0)\\\\n|   |   |   |   |   |   PRE14 = OC14: F (3.0)\\\\n|   |   |   |   |   |   PRE14 = OC12\\\\n|   |   |   |   |   |   |   PRE8 = T: F (6.0/1.0)\\\\n|   |   |   |   |   |   |   PRE8 = F: T (6.0/2.0)\\\\n|   |   |   |   |   |   PRE14 = OC13: F (2.0)\\\\n|   |   |   |   |   PRE6 = PRZ0: T (2.0)\\\\n|   |   |   |   PRE10 = F: F (10.0/1.0)\\\\n|   |   |   PRE30 = F: F (6.0)\\\\n|   |   DGN = DGN4: F (40.0/4.0)\\\\n|   |   DGN = DGN6: F (4.0)\\\\n|   |   DGN = DGN5\\\\n|   |   |   PRE8 = T: F (3.0)\\\\n|   |   |   PRE8 = F\\\\n|   |   |   |   PRE14 = OC11\\\\n|   |   |   |   |   PRE10 = T: T (2.0)\\\\n|   |   |   |   |   PRE10 = F: F (3.0/1.0)\\\\n|   |   |   |   PRE14 = OC14: T (0.0)\\\\n|   |   |   |   PRE14 = OC12: F (3.0/1.0)\\\\n|   |   |   |   PRE14 = OC13: T (1.0)\\\\n|   |   DGN = DGN8: T (2.0/1.0)\\\\n|   |   DGN = DGN1: F (1.0)\\\\n\\n'"
      ]
     },
     "execution_count": 50,
     "metadata": {},
     "output_type": "execute_result"
    }
   ],
   "source": [
    "f= open('thoracic_tree2.txt')\n",
    "contenido2=f.read()\n",
    "f.close()\n",
    "contenido2"
   ]
  },
  {
   "cell_type": "code",
   "execution_count": 51,
   "id": "603d3422",
   "metadata": {},
   "outputs": [
    {
     "data": {
      "text/html": [
       "<div>\n",
       "<style scoped>\n",
       "    .dataframe tbody tr th:only-of-type {\n",
       "        vertical-align: middle;\n",
       "    }\n",
       "\n",
       "    .dataframe tbody tr th {\n",
       "        vertical-align: top;\n",
       "    }\n",
       "\n",
       "    .dataframe thead th {\n",
       "        text-align: right;\n",
       "    }\n",
       "</style>\n",
       "<table border=\"1\" class=\"dataframe\">\n",
       "  <thead>\n",
       "    <tr style=\"text-align: right;\">\n",
       "      <th></th>\n",
       "      <th>id</th>\n",
       "      <th>DGN</th>\n",
       "      <th>PRE4</th>\n",
       "      <th>PRE5</th>\n",
       "      <th>PRE6</th>\n",
       "      <th>PRE7</th>\n",
       "      <th>PRE8</th>\n",
       "      <th>PRE9</th>\n",
       "      <th>PRE10</th>\n",
       "      <th>PRE11</th>\n",
       "      <th>PRE14</th>\n",
       "      <th>PRE17</th>\n",
       "      <th>PRE19</th>\n",
       "      <th>PRE25</th>\n",
       "      <th>PRE30</th>\n",
       "      <th>PRE32</th>\n",
       "      <th>AGE</th>\n",
       "      <th>Risk1Yr</th>\n",
       "    </tr>\n",
       "  </thead>\n",
       "  <tbody>\n",
       "    <tr>\n",
       "      <th>0</th>\n",
       "      <td>1</td>\n",
       "      <td>DGN2</td>\n",
       "      <td>2.88</td>\n",
       "      <td>2.16</td>\n",
       "      <td>PRZ1</td>\n",
       "      <td>F</td>\n",
       "      <td>F</td>\n",
       "      <td>F</td>\n",
       "      <td>T</td>\n",
       "      <td>T</td>\n",
       "      <td>OC14</td>\n",
       "      <td>F</td>\n",
       "      <td>F</td>\n",
       "      <td>F</td>\n",
       "      <td>T</td>\n",
       "      <td>F</td>\n",
       "      <td>60</td>\n",
       "      <td>F</td>\n",
       "    </tr>\n",
       "    <tr>\n",
       "      <th>1</th>\n",
       "      <td>2</td>\n",
       "      <td>DGN3</td>\n",
       "      <td>3.40</td>\n",
       "      <td>1.88</td>\n",
       "      <td>PRZ0</td>\n",
       "      <td>F</td>\n",
       "      <td>F</td>\n",
       "      <td>F</td>\n",
       "      <td>F</td>\n",
       "      <td>F</td>\n",
       "      <td>OC12</td>\n",
       "      <td>F</td>\n",
       "      <td>F</td>\n",
       "      <td>F</td>\n",
       "      <td>T</td>\n",
       "      <td>F</td>\n",
       "      <td>51</td>\n",
       "      <td>F</td>\n",
       "    </tr>\n",
       "    <tr>\n",
       "      <th>2</th>\n",
       "      <td>3</td>\n",
       "      <td>DGN3</td>\n",
       "      <td>2.76</td>\n",
       "      <td>2.08</td>\n",
       "      <td>PRZ1</td>\n",
       "      <td>F</td>\n",
       "      <td>F</td>\n",
       "      <td>F</td>\n",
       "      <td>T</td>\n",
       "      <td>F</td>\n",
       "      <td>OC11</td>\n",
       "      <td>F</td>\n",
       "      <td>F</td>\n",
       "      <td>F</td>\n",
       "      <td>T</td>\n",
       "      <td>F</td>\n",
       "      <td>59</td>\n",
       "      <td>F</td>\n",
       "    </tr>\n",
       "    <tr>\n",
       "      <th>3</th>\n",
       "      <td>4</td>\n",
       "      <td>DGN3</td>\n",
       "      <td>3.68</td>\n",
       "      <td>3.04</td>\n",
       "      <td>PRZ0</td>\n",
       "      <td>F</td>\n",
       "      <td>F</td>\n",
       "      <td>F</td>\n",
       "      <td>F</td>\n",
       "      <td>F</td>\n",
       "      <td>OC11</td>\n",
       "      <td>F</td>\n",
       "      <td>F</td>\n",
       "      <td>F</td>\n",
       "      <td>F</td>\n",
       "      <td>F</td>\n",
       "      <td>54</td>\n",
       "      <td>F</td>\n",
       "    </tr>\n",
       "    <tr>\n",
       "      <th>4</th>\n",
       "      <td>5</td>\n",
       "      <td>DGN3</td>\n",
       "      <td>2.44</td>\n",
       "      <td>0.96</td>\n",
       "      <td>PRZ2</td>\n",
       "      <td>F</td>\n",
       "      <td>T</td>\n",
       "      <td>F</td>\n",
       "      <td>T</td>\n",
       "      <td>T</td>\n",
       "      <td>OC11</td>\n",
       "      <td>F</td>\n",
       "      <td>F</td>\n",
       "      <td>F</td>\n",
       "      <td>T</td>\n",
       "      <td>F</td>\n",
       "      <td>73</td>\n",
       "      <td>T</td>\n",
       "    </tr>\n",
       "    <tr>\n",
       "      <th>...</th>\n",
       "      <td>...</td>\n",
       "      <td>...</td>\n",
       "      <td>...</td>\n",
       "      <td>...</td>\n",
       "      <td>...</td>\n",
       "      <td>...</td>\n",
       "      <td>...</td>\n",
       "      <td>...</td>\n",
       "      <td>...</td>\n",
       "      <td>...</td>\n",
       "      <td>...</td>\n",
       "      <td>...</td>\n",
       "      <td>...</td>\n",
       "      <td>...</td>\n",
       "      <td>...</td>\n",
       "      <td>...</td>\n",
       "      <td>...</td>\n",
       "      <td>...</td>\n",
       "    </tr>\n",
       "    <tr>\n",
       "      <th>465</th>\n",
       "      <td>466</td>\n",
       "      <td>DGN2</td>\n",
       "      <td>3.88</td>\n",
       "      <td>2.12</td>\n",
       "      <td>PRZ1</td>\n",
       "      <td>F</td>\n",
       "      <td>F</td>\n",
       "      <td>F</td>\n",
       "      <td>T</td>\n",
       "      <td>F</td>\n",
       "      <td>OC13</td>\n",
       "      <td>F</td>\n",
       "      <td>F</td>\n",
       "      <td>F</td>\n",
       "      <td>T</td>\n",
       "      <td>F</td>\n",
       "      <td>63</td>\n",
       "      <td>F</td>\n",
       "    </tr>\n",
       "    <tr>\n",
       "      <th>466</th>\n",
       "      <td>467</td>\n",
       "      <td>DGN3</td>\n",
       "      <td>3.76</td>\n",
       "      <td>3.12</td>\n",
       "      <td>PRZ0</td>\n",
       "      <td>F</td>\n",
       "      <td>F</td>\n",
       "      <td>F</td>\n",
       "      <td>F</td>\n",
       "      <td>F</td>\n",
       "      <td>OC11</td>\n",
       "      <td>F</td>\n",
       "      <td>F</td>\n",
       "      <td>F</td>\n",
       "      <td>T</td>\n",
       "      <td>F</td>\n",
       "      <td>61</td>\n",
       "      <td>F</td>\n",
       "    </tr>\n",
       "    <tr>\n",
       "      <th>467</th>\n",
       "      <td>468</td>\n",
       "      <td>DGN3</td>\n",
       "      <td>3.04</td>\n",
       "      <td>2.08</td>\n",
       "      <td>PRZ1</td>\n",
       "      <td>F</td>\n",
       "      <td>F</td>\n",
       "      <td>F</td>\n",
       "      <td>T</td>\n",
       "      <td>F</td>\n",
       "      <td>OC13</td>\n",
       "      <td>F</td>\n",
       "      <td>F</td>\n",
       "      <td>F</td>\n",
       "      <td>F</td>\n",
       "      <td>F</td>\n",
       "      <td>52</td>\n",
       "      <td>F</td>\n",
       "    </tr>\n",
       "    <tr>\n",
       "      <th>468</th>\n",
       "      <td>469</td>\n",
       "      <td>DGN3</td>\n",
       "      <td>1.96</td>\n",
       "      <td>1.68</td>\n",
       "      <td>PRZ1</td>\n",
       "      <td>F</td>\n",
       "      <td>F</td>\n",
       "      <td>F</td>\n",
       "      <td>T</td>\n",
       "      <td>T</td>\n",
       "      <td>OC12</td>\n",
       "      <td>F</td>\n",
       "      <td>F</td>\n",
       "      <td>F</td>\n",
       "      <td>T</td>\n",
       "      <td>F</td>\n",
       "      <td>79</td>\n",
       "      <td>F</td>\n",
       "    </tr>\n",
       "    <tr>\n",
       "      <th>469</th>\n",
       "      <td>470</td>\n",
       "      <td>DGN3</td>\n",
       "      <td>4.72</td>\n",
       "      <td>3.56</td>\n",
       "      <td>PRZ0</td>\n",
       "      <td>F</td>\n",
       "      <td>F</td>\n",
       "      <td>F</td>\n",
       "      <td>F</td>\n",
       "      <td>F</td>\n",
       "      <td>OC12</td>\n",
       "      <td>F</td>\n",
       "      <td>F</td>\n",
       "      <td>F</td>\n",
       "      <td>T</td>\n",
       "      <td>F</td>\n",
       "      <td>51</td>\n",
       "      <td>F</td>\n",
       "    </tr>\n",
       "  </tbody>\n",
       "</table>\n",
       "<p>470 rows × 18 columns</p>\n",
       "</div>"
      ],
      "text/plain": [
       "      id   DGN  PRE4  PRE5  PRE6 PRE7 PRE8 PRE9 PRE10 PRE11 PRE14 PRE17 PRE19  \\\n",
       "0      1  DGN2  2.88  2.16  PRZ1    F    F    F     T     T  OC14     F     F   \n",
       "1      2  DGN3  3.40  1.88  PRZ0    F    F    F     F     F  OC12     F     F   \n",
       "2      3  DGN3  2.76  2.08  PRZ1    F    F    F     T     F  OC11     F     F   \n",
       "3      4  DGN3  3.68  3.04  PRZ0    F    F    F     F     F  OC11     F     F   \n",
       "4      5  DGN3  2.44  0.96  PRZ2    F    T    F     T     T  OC11     F     F   \n",
       "..   ...   ...   ...   ...   ...  ...  ...  ...   ...   ...   ...   ...   ...   \n",
       "465  466  DGN2  3.88  2.12  PRZ1    F    F    F     T     F  OC13     F     F   \n",
       "466  467  DGN3  3.76  3.12  PRZ0    F    F    F     F     F  OC11     F     F   \n",
       "467  468  DGN3  3.04  2.08  PRZ1    F    F    F     T     F  OC13     F     F   \n",
       "468  469  DGN3  1.96  1.68  PRZ1    F    F    F     T     T  OC12     F     F   \n",
       "469  470  DGN3  4.72  3.56  PRZ0    F    F    F     F     F  OC12     F     F   \n",
       "\n",
       "    PRE25 PRE30 PRE32  AGE Risk1Yr  \n",
       "0       F     T     F   60       F  \n",
       "1       F     T     F   51       F  \n",
       "2       F     T     F   59       F  \n",
       "3       F     F     F   54       F  \n",
       "4       F     T     F   73       T  \n",
       "..    ...   ...   ...  ...     ...  \n",
       "465     F     T     F   63       F  \n",
       "466     F     T     F   61       F  \n",
       "467     F     F     F   52       F  \n",
       "468     F     T     F   79       F  \n",
       "469     F     T     F   51       F  \n",
       "\n",
       "[470 rows x 18 columns]"
      ]
     },
     "execution_count": 51,
     "metadata": {},
     "output_type": "execute_result"
    }
   ],
   "source": [
    "tabla = pd.read_csv('ThoraricSurgery.csv')\n",
    "tabla"
   ]
  },
  {
   "cell_type": "code",
   "execution_count": 52,
   "id": "23a44acb",
   "metadata": {},
   "outputs": [
    {
     "name": "stdout",
     "output_type": "stream",
     "text": [
      "id : Atributo no utilizado\n",
      "Risk1Yr : Atributo no utilizado\n"
     ]
    }
   ],
   "source": [
    "#Buscamos los atributos no utilizados mediante el metodo find()\n",
    "for atr in tabla.columns:\n",
    "    if contenido.find(atr) == -1:\n",
    "        print(atr, \": Atributo no utilizado\")"
   ]
  },
  {
   "cell_type": "markdown",
   "id": "1cac8f8e",
   "metadata": {},
   "source": [
    "Ejercicio 2.3\n",
    "\n",
    "El algoritmo j48 ofrece resultados superiores al algoritmo id3 utilizado previamente debido a que utiliza una técnica diferente. En el caso del algoritmo id3, la discretización se realiza de antemano, lo que significa que no puede aprovechar los valores de la clase de destino para la clasificación, y además solo se puede utilizar una vez para la clasificación. En cambio, el algoritmo j48 utiliza una técnica de particionamiento binario y recursivo que utiliza la Ganancia de Información como medida de bondad. Esta técnica de particionamiento recursivo de atributos numéricos permite una clasificación más eficiente, ya que solo se produce cuando se maximiza la ganancia de información para dicha partición binaria."
   ]
  },
  {
   "cell_type": "markdown",
   "id": "f99c9391",
   "metadata": {},
   "source": [
    "Ejercicio 2.4"
   ]
  },
  {
   "cell_type": "code",
   "execution_count": 53,
   "id": "f537a09e",
   "metadata": {},
   "outputs": [
    {
     "data": {
      "text/plain": [
       "['PRE4', 'PRE5', 'AGE']"
      ]
     },
     "execution_count": 53,
     "metadata": {},
     "output_type": "execute_result"
    }
   ],
   "source": [
    "#Procedemos a implementar la discretización\n",
    "Atrib_Num = [tabla.columns[i] for i in [2,3,16]]\n",
    "Atrib_Num"
   ]
  },
  {
   "cell_type": "code",
   "execution_count": 54,
   "id": "e94ae98a",
   "metadata": {},
   "outputs": [
    {
     "name": "stdout",
     "output_type": "stream",
     "text": [
      "PRE4 <=  377 385\n",
      "3.58\n",
      "PRE4 <=  651 659\n",
      "3.88\n",
      "PRE4 <=  870 878\n",
      "4.28\n",
      "PRE4 <=  1440 1448\n",
      "4.16\n",
      "PRE4 <=  2031 2039\n",
      "3.12\n",
      "PRE4 <=  2551 2559\n",
      "2.48\n",
      "PRE4 <=  2698 2706\n",
      "3.8\n",
      "PRE4 <=  3197 3205\n",
      "3.28\n",
      "PRE4 <=  5192 5200\n",
      "2.88\n",
      "PRE4 <=  5253 5261\n",
      "2.4\n",
      "PRE4 <=  6196 6204\n",
      "2.76\n",
      "PRE4 <=  7347 7355\n",
      "3.84\n",
      "PRE4 <=  8589 8597\n",
      "2.76\n",
      "PRE4 <=  8810 8818\n",
      "4.76\n",
      "PRE5 <=  4380 4388\n",
      "1.6\n",
      "PRE5 <=  6102 6110\n",
      "1.72\n",
      "PRE5 <=  7077 7085\n",
      "1.92\n",
      "PRE5 <=  7863 7871\n",
      "2.04\n",
      "PRE5 <=  8031 8039\n",
      "1.96\n",
      "AGE <=  1162 1169\n",
      "65.0\n",
      "AGE <=  1398 1405\n",
      "62.0\n",
      "AGE <=  3044 3051\n",
      "71.0\n",
      "AGE <=  4292 4299\n",
      "45.0\n",
      "AGE <=  6502 6509\n",
      "75.0\n",
      "AGE <=  8422 8429\n",
      "66.0\n"
     ]
    }
   ],
   "source": [
    "#Solo hay 1 atributo que no se usa\n",
    "for atributo in Atrib_Num:\n",
    "    b = []\n",
    "    for pos in finditer(atributo+' '+'<= ', contenido):\n",
    "        #print (pos, pos.start(), pos.end())\n",
    "        print (atributo+' '+'<= ', pos.start(), pos.end())\n",
    "        if contenido[pos.end():].find(':') < contenido[pos.end():].find('\\n'):\n",
    "            segmento = contenido[pos.end():].find(':')\n",
    "        else:\n",
    "            segmento = contenido[pos.end():].find('\\n')\n",
    "            \n",
    "        b.append(float(contenido[pos.end():pos.end()+segmento]))\n",
    "        print(b[-1])\n",
    "        b.sort()\n",
    "    #print(atributo, b)\n",
    "    tabla[atributo] = [chr(65+i) for i in np.digitize(tabla[atributo], bins=b)]"
   ]
  },
  {
   "cell_type": "code",
   "execution_count": 55,
   "id": "ebcdb1f7",
   "metadata": {},
   "outputs": [
    {
     "data": {
      "text/plain": [
       "array(['B', 'F', 'E', 'G', 'C', 'D', 'A'], dtype=object)"
      ]
     },
     "execution_count": 55,
     "metadata": {},
     "output_type": "execute_result"
    }
   ],
   "source": [
    "tabla.AGE.unique()"
   ]
  },
  {
   "cell_type": "code",
   "execution_count": 56,
   "id": "005a7a2a",
   "metadata": {},
   "outputs": [
    {
     "data": {
      "text/html": [
       "<div>\n",
       "<style scoped>\n",
       "    .dataframe tbody tr th:only-of-type {\n",
       "        vertical-align: middle;\n",
       "    }\n",
       "\n",
       "    .dataframe tbody tr th {\n",
       "        vertical-align: top;\n",
       "    }\n",
       "\n",
       "    .dataframe thead th {\n",
       "        text-align: right;\n",
       "    }\n",
       "</style>\n",
       "<table border=\"1\" class=\"dataframe\">\n",
       "  <thead>\n",
       "    <tr style=\"text-align: right;\">\n",
       "      <th></th>\n",
       "      <th>id</th>\n",
       "      <th>DGN</th>\n",
       "      <th>PRE4</th>\n",
       "      <th>PRE5</th>\n",
       "      <th>PRE6</th>\n",
       "      <th>PRE7</th>\n",
       "      <th>PRE8</th>\n",
       "      <th>PRE9</th>\n",
       "      <th>PRE10</th>\n",
       "      <th>PRE11</th>\n",
       "      <th>PRE14</th>\n",
       "      <th>PRE17</th>\n",
       "      <th>PRE19</th>\n",
       "      <th>PRE25</th>\n",
       "      <th>PRE30</th>\n",
       "      <th>PRE32</th>\n",
       "      <th>AGE</th>\n",
       "      <th>Risk1Yr</th>\n",
       "    </tr>\n",
       "  </thead>\n",
       "  <tbody>\n",
       "    <tr>\n",
       "      <th>0</th>\n",
       "      <td>1</td>\n",
       "      <td>DGN2</td>\n",
       "      <td>F</td>\n",
       "      <td>F</td>\n",
       "      <td>PRZ1</td>\n",
       "      <td>F</td>\n",
       "      <td>F</td>\n",
       "      <td>F</td>\n",
       "      <td>T</td>\n",
       "      <td>T</td>\n",
       "      <td>OC14</td>\n",
       "      <td>F</td>\n",
       "      <td>F</td>\n",
       "      <td>F</td>\n",
       "      <td>T</td>\n",
       "      <td>F</td>\n",
       "      <td>B</td>\n",
       "      <td>F</td>\n",
       "    </tr>\n",
       "    <tr>\n",
       "      <th>1</th>\n",
       "      <td>2</td>\n",
       "      <td>DGN3</td>\n",
       "      <td>H</td>\n",
       "      <td>C</td>\n",
       "      <td>PRZ0</td>\n",
       "      <td>F</td>\n",
       "      <td>F</td>\n",
       "      <td>F</td>\n",
       "      <td>F</td>\n",
       "      <td>F</td>\n",
       "      <td>OC12</td>\n",
       "      <td>F</td>\n",
       "      <td>F</td>\n",
       "      <td>F</td>\n",
       "      <td>T</td>\n",
       "      <td>F</td>\n",
       "      <td>B</td>\n",
       "      <td>F</td>\n",
       "    </tr>\n",
       "    <tr>\n",
       "      <th>2</th>\n",
       "      <td>3</td>\n",
       "      <td>DGN3</td>\n",
       "      <td>E</td>\n",
       "      <td>F</td>\n",
       "      <td>PRZ1</td>\n",
       "      <td>F</td>\n",
       "      <td>F</td>\n",
       "      <td>F</td>\n",
       "      <td>T</td>\n",
       "      <td>F</td>\n",
       "      <td>OC11</td>\n",
       "      <td>F</td>\n",
       "      <td>F</td>\n",
       "      <td>F</td>\n",
       "      <td>T</td>\n",
       "      <td>F</td>\n",
       "      <td>B</td>\n",
       "      <td>F</td>\n",
       "    </tr>\n",
       "    <tr>\n",
       "      <th>3</th>\n",
       "      <td>4</td>\n",
       "      <td>DGN3</td>\n",
       "      <td>I</td>\n",
       "      <td>F</td>\n",
       "      <td>PRZ0</td>\n",
       "      <td>F</td>\n",
       "      <td>F</td>\n",
       "      <td>F</td>\n",
       "      <td>F</td>\n",
       "      <td>F</td>\n",
       "      <td>OC11</td>\n",
       "      <td>F</td>\n",
       "      <td>F</td>\n",
       "      <td>F</td>\n",
       "      <td>F</td>\n",
       "      <td>F</td>\n",
       "      <td>B</td>\n",
       "      <td>F</td>\n",
       "    </tr>\n",
       "    <tr>\n",
       "      <th>4</th>\n",
       "      <td>5</td>\n",
       "      <td>DGN3</td>\n",
       "      <td>B</td>\n",
       "      <td>A</td>\n",
       "      <td>PRZ2</td>\n",
       "      <td>F</td>\n",
       "      <td>T</td>\n",
       "      <td>F</td>\n",
       "      <td>T</td>\n",
       "      <td>T</td>\n",
       "      <td>OC11</td>\n",
       "      <td>F</td>\n",
       "      <td>F</td>\n",
       "      <td>F</td>\n",
       "      <td>T</td>\n",
       "      <td>F</td>\n",
       "      <td>F</td>\n",
       "      <td>T</td>\n",
       "    </tr>\n",
       "    <tr>\n",
       "      <th>...</th>\n",
       "      <td>...</td>\n",
       "      <td>...</td>\n",
       "      <td>...</td>\n",
       "      <td>...</td>\n",
       "      <td>...</td>\n",
       "      <td>...</td>\n",
       "      <td>...</td>\n",
       "      <td>...</td>\n",
       "      <td>...</td>\n",
       "      <td>...</td>\n",
       "      <td>...</td>\n",
       "      <td>...</td>\n",
       "      <td>...</td>\n",
       "      <td>...</td>\n",
       "      <td>...</td>\n",
       "      <td>...</td>\n",
       "      <td>...</td>\n",
       "      <td>...</td>\n",
       "    </tr>\n",
       "    <tr>\n",
       "      <th>465</th>\n",
       "      <td>466</td>\n",
       "      <td>DGN2</td>\n",
       "      <td>L</td>\n",
       "      <td>F</td>\n",
       "      <td>PRZ1</td>\n",
       "      <td>F</td>\n",
       "      <td>F</td>\n",
       "      <td>F</td>\n",
       "      <td>T</td>\n",
       "      <td>F</td>\n",
       "      <td>OC13</td>\n",
       "      <td>F</td>\n",
       "      <td>F</td>\n",
       "      <td>F</td>\n",
       "      <td>T</td>\n",
       "      <td>F</td>\n",
       "      <td>C</td>\n",
       "      <td>F</td>\n",
       "    </tr>\n",
       "    <tr>\n",
       "      <th>466</th>\n",
       "      <td>467</td>\n",
       "      <td>DGN3</td>\n",
       "      <td>I</td>\n",
       "      <td>F</td>\n",
       "      <td>PRZ0</td>\n",
       "      <td>F</td>\n",
       "      <td>F</td>\n",
       "      <td>F</td>\n",
       "      <td>F</td>\n",
       "      <td>F</td>\n",
       "      <td>OC11</td>\n",
       "      <td>F</td>\n",
       "      <td>F</td>\n",
       "      <td>F</td>\n",
       "      <td>T</td>\n",
       "      <td>F</td>\n",
       "      <td>B</td>\n",
       "      <td>F</td>\n",
       "    </tr>\n",
       "    <tr>\n",
       "      <th>467</th>\n",
       "      <td>468</td>\n",
       "      <td>DGN3</td>\n",
       "      <td>F</td>\n",
       "      <td>F</td>\n",
       "      <td>PRZ1</td>\n",
       "      <td>F</td>\n",
       "      <td>F</td>\n",
       "      <td>F</td>\n",
       "      <td>T</td>\n",
       "      <td>F</td>\n",
       "      <td>OC13</td>\n",
       "      <td>F</td>\n",
       "      <td>F</td>\n",
       "      <td>F</td>\n",
       "      <td>F</td>\n",
       "      <td>F</td>\n",
       "      <td>B</td>\n",
       "      <td>F</td>\n",
       "    </tr>\n",
       "    <tr>\n",
       "      <th>468</th>\n",
       "      <td>469</td>\n",
       "      <td>DGN3</td>\n",
       "      <td>A</td>\n",
       "      <td>B</td>\n",
       "      <td>PRZ1</td>\n",
       "      <td>F</td>\n",
       "      <td>F</td>\n",
       "      <td>F</td>\n",
       "      <td>T</td>\n",
       "      <td>T</td>\n",
       "      <td>OC12</td>\n",
       "      <td>F</td>\n",
       "      <td>F</td>\n",
       "      <td>F</td>\n",
       "      <td>T</td>\n",
       "      <td>F</td>\n",
       "      <td>G</td>\n",
       "      <td>F</td>\n",
       "    </tr>\n",
       "    <tr>\n",
       "      <th>469</th>\n",
       "      <td>470</td>\n",
       "      <td>DGN3</td>\n",
       "      <td>N</td>\n",
       "      <td>F</td>\n",
       "      <td>PRZ0</td>\n",
       "      <td>F</td>\n",
       "      <td>F</td>\n",
       "      <td>F</td>\n",
       "      <td>F</td>\n",
       "      <td>F</td>\n",
       "      <td>OC12</td>\n",
       "      <td>F</td>\n",
       "      <td>F</td>\n",
       "      <td>F</td>\n",
       "      <td>T</td>\n",
       "      <td>F</td>\n",
       "      <td>B</td>\n",
       "      <td>F</td>\n",
       "    </tr>\n",
       "  </tbody>\n",
       "</table>\n",
       "<p>470 rows × 18 columns</p>\n",
       "</div>"
      ],
      "text/plain": [
       "      id   DGN PRE4 PRE5  PRE6 PRE7 PRE8 PRE9 PRE10 PRE11 PRE14 PRE17 PRE19  \\\n",
       "0      1  DGN2    F    F  PRZ1    F    F    F     T     T  OC14     F     F   \n",
       "1      2  DGN3    H    C  PRZ0    F    F    F     F     F  OC12     F     F   \n",
       "2      3  DGN3    E    F  PRZ1    F    F    F     T     F  OC11     F     F   \n",
       "3      4  DGN3    I    F  PRZ0    F    F    F     F     F  OC11     F     F   \n",
       "4      5  DGN3    B    A  PRZ2    F    T    F     T     T  OC11     F     F   \n",
       "..   ...   ...  ...  ...   ...  ...  ...  ...   ...   ...   ...   ...   ...   \n",
       "465  466  DGN2    L    F  PRZ1    F    F    F     T     F  OC13     F     F   \n",
       "466  467  DGN3    I    F  PRZ0    F    F    F     F     F  OC11     F     F   \n",
       "467  468  DGN3    F    F  PRZ1    F    F    F     T     F  OC13     F     F   \n",
       "468  469  DGN3    A    B  PRZ1    F    F    F     T     T  OC12     F     F   \n",
       "469  470  DGN3    N    F  PRZ0    F    F    F     F     F  OC12     F     F   \n",
       "\n",
       "    PRE25 PRE30 PRE32 AGE Risk1Yr  \n",
       "0       F     T     F   B       F  \n",
       "1       F     T     F   B       F  \n",
       "2       F     T     F   B       F  \n",
       "3       F     F     F   B       F  \n",
       "4       F     T     F   F       T  \n",
       "..    ...   ...   ...  ..     ...  \n",
       "465     F     T     F   C       F  \n",
       "466     F     T     F   B       F  \n",
       "467     F     F     F   B       F  \n",
       "468     F     T     F   G       F  \n",
       "469     F     T     F   B       F  \n",
       "\n",
       "[470 rows x 18 columns]"
      ]
     },
     "execution_count": 56,
     "metadata": {},
     "output_type": "execute_result"
    }
   ],
   "source": [
    "tabla"
   ]
  },
  {
   "cell_type": "code",
   "execution_count": 57,
   "id": "f1cee80c",
   "metadata": {},
   "outputs": [],
   "source": [
    "tabla.to_csv('ThoraricSurgery_2.csv', index=False)"
   ]
  }
 ],
 "metadata": {
  "kernelspec": {
   "display_name": "Python 3 (ipykernel)",
   "language": "python",
   "name": "python3"
  },
  "language_info": {
   "codemirror_mode": {
    "name": "ipython",
    "version": 3
   },
   "file_extension": ".py",
   "mimetype": "text/x-python",
   "name": "python",
   "nbconvert_exporter": "python",
   "pygments_lexer": "ipython3",
   "version": "3.9.13"
  }
 },
 "nbformat": 4,
 "nbformat_minor": 5
}
