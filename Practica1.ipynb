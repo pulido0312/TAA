{
 "cells": [
  {
   "cell_type": "code",
   "execution_count": 6,
   "id": "02dc1837-45a6-4196-903d-c59c52840b21",
   "metadata": {},
   "outputs": [],
   "source": [
    "import numpy as np\n",
    "import pandas as pd\n",
    "from scipy.stats import entropy"
   ]
  },
  {
   "cell_type": "markdown",
   "id": "c65cf7e5-5c72-4fbd-ae22-7b18b0291e20",
   "metadata": {},
   "source": [
    "<div class=\"alert alert-block alert-success\">\n",
    "<b>El siguiente código:</b> utiliza la biblioteca pandas para leer un archivo CSV llamado \"weather.nominal.csv\" y almacenar su contenido en un objeto DataFrame de pandas llamado \"tabla\". El argumento \"header=0\" especifica que la primera fila del archivo CSV contiene los nombres de las columnas para el DataFrame.\n",
    "</div>"
   ]
  },
  {
   "cell_type": "code",
   "execution_count": 7,
   "id": "7c66d74f-e353-406d-a020-8ea17c6fbe7f",
   "metadata": {},
   "outputs": [
    {
     "data": {
      "text/html": [
       "<div>\n",
       "<style scoped>\n",
       "    .dataframe tbody tr th:only-of-type {\n",
       "        vertical-align: middle;\n",
       "    }\n",
       "\n",
       "    .dataframe tbody tr th {\n",
       "        vertical-align: top;\n",
       "    }\n",
       "\n",
       "    .dataframe thead th {\n",
       "        text-align: right;\n",
       "    }\n",
       "</style>\n",
       "<table border=\"1\" class=\"dataframe\">\n",
       "  <thead>\n",
       "    <tr style=\"text-align: right;\">\n",
       "      <th></th>\n",
       "      <th>id</th>\n",
       "      <th>outlook</th>\n",
       "      <th>temperature</th>\n",
       "      <th>humidity</th>\n",
       "      <th>windy</th>\n",
       "      <th>play</th>\n",
       "    </tr>\n",
       "  </thead>\n",
       "  <tbody>\n",
       "    <tr>\n",
       "      <th>0</th>\n",
       "      <td>1</td>\n",
       "      <td>sunny</td>\n",
       "      <td>hot</td>\n",
       "      <td>high</td>\n",
       "      <td>False</td>\n",
       "      <td>no</td>\n",
       "    </tr>\n",
       "    <tr>\n",
       "      <th>1</th>\n",
       "      <td>2</td>\n",
       "      <td>sunny</td>\n",
       "      <td>hot</td>\n",
       "      <td>high</td>\n",
       "      <td>True</td>\n",
       "      <td>no</td>\n",
       "    </tr>\n",
       "    <tr>\n",
       "      <th>2</th>\n",
       "      <td>3</td>\n",
       "      <td>overcast</td>\n",
       "      <td>hot</td>\n",
       "      <td>high</td>\n",
       "      <td>False</td>\n",
       "      <td>yes</td>\n",
       "    </tr>\n",
       "    <tr>\n",
       "      <th>3</th>\n",
       "      <td>4</td>\n",
       "      <td>rainy</td>\n",
       "      <td>mild</td>\n",
       "      <td>high</td>\n",
       "      <td>False</td>\n",
       "      <td>yes</td>\n",
       "    </tr>\n",
       "    <tr>\n",
       "      <th>4</th>\n",
       "      <td>5</td>\n",
       "      <td>rainy</td>\n",
       "      <td>cool</td>\n",
       "      <td>normal</td>\n",
       "      <td>False</td>\n",
       "      <td>yes</td>\n",
       "    </tr>\n",
       "    <tr>\n",
       "      <th>5</th>\n",
       "      <td>6</td>\n",
       "      <td>rainy</td>\n",
       "      <td>cool</td>\n",
       "      <td>normal</td>\n",
       "      <td>True</td>\n",
       "      <td>no</td>\n",
       "    </tr>\n",
       "    <tr>\n",
       "      <th>6</th>\n",
       "      <td>7</td>\n",
       "      <td>overcast</td>\n",
       "      <td>cool</td>\n",
       "      <td>normal</td>\n",
       "      <td>True</td>\n",
       "      <td>yes</td>\n",
       "    </tr>\n",
       "    <tr>\n",
       "      <th>7</th>\n",
       "      <td>8</td>\n",
       "      <td>sunny</td>\n",
       "      <td>mild</td>\n",
       "      <td>high</td>\n",
       "      <td>False</td>\n",
       "      <td>no</td>\n",
       "    </tr>\n",
       "    <tr>\n",
       "      <th>8</th>\n",
       "      <td>9</td>\n",
       "      <td>sunny</td>\n",
       "      <td>cool</td>\n",
       "      <td>normal</td>\n",
       "      <td>False</td>\n",
       "      <td>yes</td>\n",
       "    </tr>\n",
       "    <tr>\n",
       "      <th>9</th>\n",
       "      <td>10</td>\n",
       "      <td>rainy</td>\n",
       "      <td>mild</td>\n",
       "      <td>normal</td>\n",
       "      <td>False</td>\n",
       "      <td>yes</td>\n",
       "    </tr>\n",
       "    <tr>\n",
       "      <th>10</th>\n",
       "      <td>11</td>\n",
       "      <td>sunny</td>\n",
       "      <td>mild</td>\n",
       "      <td>normal</td>\n",
       "      <td>True</td>\n",
       "      <td>yes</td>\n",
       "    </tr>\n",
       "    <tr>\n",
       "      <th>11</th>\n",
       "      <td>12</td>\n",
       "      <td>overcast</td>\n",
       "      <td>mild</td>\n",
       "      <td>high</td>\n",
       "      <td>True</td>\n",
       "      <td>yes</td>\n",
       "    </tr>\n",
       "    <tr>\n",
       "      <th>12</th>\n",
       "      <td>13</td>\n",
       "      <td>overcast</td>\n",
       "      <td>hot</td>\n",
       "      <td>normal</td>\n",
       "      <td>False</td>\n",
       "      <td>yes</td>\n",
       "    </tr>\n",
       "    <tr>\n",
       "      <th>13</th>\n",
       "      <td>14</td>\n",
       "      <td>rainy</td>\n",
       "      <td>mild</td>\n",
       "      <td>high</td>\n",
       "      <td>True</td>\n",
       "      <td>no</td>\n",
       "    </tr>\n",
       "  </tbody>\n",
       "</table>\n",
       "</div>"
      ],
      "text/plain": [
       "    id   outlook temperature humidity  windy play\n",
       "0    1     sunny         hot     high  False   no\n",
       "1    2     sunny         hot     high   True   no\n",
       "2    3  overcast         hot     high  False  yes\n",
       "3    4     rainy        mild     high  False  yes\n",
       "4    5     rainy        cool   normal  False  yes\n",
       "5    6     rainy        cool   normal   True   no\n",
       "6    7  overcast        cool   normal   True  yes\n",
       "7    8     sunny        mild     high  False   no\n",
       "8    9     sunny        cool   normal  False  yes\n",
       "9   10     rainy        mild   normal  False  yes\n",
       "10  11     sunny        mild   normal   True  yes\n",
       "11  12  overcast        mild     high   True  yes\n",
       "12  13  overcast         hot   normal  False  yes\n",
       "13  14     rainy        mild     high   True   no"
      ]
     },
     "execution_count": 7,
     "metadata": {},
     "output_type": "execute_result"
    }
   ],
   "source": [
    "tabla = pd.read_csv(\"weather.nominal.csv\", header=0)\n",
    "tabla"
   ]
  },
  {
   "cell_type": "markdown",
   "id": "6887b361-c742-4267-8b69-a7a83a53665b",
   "metadata": {},
   "source": [
    "<div class=\"alert alert-block alert-success\">\n",
    "<b>El siguiente código:</b> calcula la entropía de la variable objetivo (la última columna) en el DataFrame \"tabla\".\n",
    "\n",
    "La función \"tabla.iloc[:, -1].value_counts(normalize=True)\" selecciona la última columna del DataFrame \"tabla\" (accediendo a ella mediante el índice \"-1\"), cuenta la frecuencia de cada valor de esa columna utilizando el método \"value_counts()\", y normaliza las frecuencias para obtener las proporciones de cada valor utilizando el argumento \"normalize=True\". El resultado es una serie pandas que contiene las proporciones de cada valor de la última columna de \"tabla\".\n",
    "\n",
    "La función \"entropy()\" se utiliza para calcular la entropía de la serie pandas resultante. El primer argumento de \"entropy()\" es la serie de proporciones, y el segundo argumento especifica la base del logaritmo utilizado para calcular la entropía (en este caso, se utiliza una base de 2 para obtener la entropía en bits).\n",
    "\n",
    "El resultado de este código es el valor de la entropía de la variable objetivo en \"tabla\" en bits.\n",
    "</div>\n",
    "\n",
    "\n"
   ]
  },
  {
   "cell_type": "code",
   "execution_count": 8,
   "id": "ec350043-00dc-434b-9c94-3ac80d0dec34",
   "metadata": {},
   "outputs": [
    {
     "data": {
      "text/plain": [
       "0.940285958670631"
      ]
     },
     "execution_count": 8,
     "metadata": {},
     "output_type": "execute_result"
    }
   ],
   "source": [
    "H = entropy(tabla.iloc[:, -1].value_counts(normalize=True), base=2)\n",
    "H"
   ]
  },
  {
   "cell_type": "markdown",
   "id": "8aad39dd-d7e2-4385-b371-eb023c70e11d",
   "metadata": {},
   "source": [
    "<div class=\"alert alert-block alert-success\">\n",
    "<b>El siguiente código:</b> ccalcula la ganancia de información de cada atributo en el DataFrame \"tabla\" con respecto a la variable objetivo (la última columna).\n",
    "\n",
    "El bucle \"for atributo in tabla.columns[:-1]:\" itera sobre todas las columnas de \"tabla\" excepto la última (la variable objetivo), y para cada columna realiza los siguientes pasos:\n",
    "\n",
    "Añade la entropía H de la variable objetivo (calculada previamente) a la lista G.\n",
    "Para cada valor v único en la columna actual, filtra las filas de \"tabla\" que contienen ese valor en la columna actual.\n",
    "Calcula la proporción de filas que contienen el valor v en la columna actual y la utiliza para ponderar la entropía de la variable objetivo condicionada a que la columna actual tenga el valor v. Esto se hace restando la entropía de la variable objetivo en el subconjunto de filas que contienen el valor v en la columna actual de la entropía H previamente calculada. La entropía condicionada se calcula utilizando la misma fórmula que en el código anterior.\n",
    "Resta la entropía ponderada del paso anterior a la entropía H y añade el resultado a la lista G.\n",
    "Al final del bucle, la lista G contendrá la ganancia de información de cada atributo en \"tabla\" con respecto a la variable objetivo. El resultado final es la lista G.\n",
    "</div>"
   ]
  },
  {
   "cell_type": "code",
   "execution_count": 9,
   "id": "6012bec8-0230-465b-ac92-12cd5fa567b7",
   "metadata": {},
   "outputs": [
    {
     "data": {
      "text/plain": [
       "[0.940285958670631,\n",
       " 0.246749819774439,\n",
       " 0.029222565658954758,\n",
       " 0.15183550136234159,\n",
       " 0.04812703040826943]"
      ]
     },
     "execution_count": 9,
     "metadata": {},
     "output_type": "execute_result"
    }
   ],
   "source": [
    "G = []\n",
    "for atributo in tabla.columns[:-1]:\n",
    "    G.append(H)\n",
    "    for v in tabla[atributo].unique():\n",
    "        filas = tabla.loc[tabla[atributo] == v]\n",
    "        G[-1] -= (len(filas)/len(tabla))*entropy(filas.iloc[:, -1].value_counts(normalize=True), base=2)\n",
    "G"
   ]
  },
  {
   "cell_type": "markdown",
   "id": "ed33d961-d0f3-4f06-9f9f-1b36ae13716e",
   "metadata": {},
   "source": [
    "<div class=\"alert alert-block alert-success\">\n",
    "<b>El siguiente código:</b> imprime la ganancia máxima de información (en bits) obtenida por los atributos en el DataFrame \"tabla\" con respecto a la variable objetivo (la última columna).\n",
    "\n",
    "La expresión \"np.argmax(G[1:])+1\" encuentra el índice del elemento máximo de la lista G a partir del segundo elemento (índice 1) hasta el final. El resultado se suma 1 para ajustar el índice al número de columna correspondiente en \"tabla\". Esto devuelve el índice del atributo que tiene la mayor ganancia de información con respecto a la variable objetivo.\n",
    "\n",
    "La expresión \"tabla.columns[np.argmax(G[1:])+1]\" utiliza el índice del atributo con mayor ganancia de información para obtener su nombre de columna correspondiente en \"tabla\".\n",
    "\n",
    "La expresión \"G[np.argmax(np.array(G[1:]))+1]\" utiliza el mismo índice del atributo con mayor ganancia de información para obtener su valor de ganancia de información correspondiente de la lista G.\n",
    "\n",
    "En conjunto, este código imprime el nombre del atributo con la mayor ganancia de información con respecto a la variable objetivo, seguido de su valor de ganancia de información en bits.\n",
    "</div>\n",
    "\n"
   ]
  },
  {
   "cell_type": "code",
   "execution_count": 10,
   "id": "59216e65-d1e0-469b-8d26-d24f38ef3d20",
   "metadata": {},
   "outputs": [
    {
     "name": "stdout",
     "output_type": "stream",
     "text": [
      "Ganancia MAXIMA en Información (Entropía) =    - outlook -  Correspondiente al valor  0.246749819774439\n"
     ]
    }
   ],
   "source": [
    "print(\"Ganancia MAXIMA en Información (Entropía) =    -\", tabla.columns[np.argmax(G[1:])+1], \"-  Correspondiente al valor \", G[np.argmax(np.array(G[1:]))+1])"
   ]
  },
  {
   "cell_type": "markdown",
   "id": "74db5721-dcd8-4cfe-861f-01a9bff1fd5a",
   "metadata": {},
   "source": [
    "<div class=\"alert alert-block alert-success\">\n",
    "<b>El siguiente código:</b> calcula el índice de Gini de cada atributo en el DataFrame \"tabla\" con respecto a la variable objetivo (la última columna).\n",
    "\n",
    "La variable \"G_Gini\" se inicializa como el valor del índice de Gini para la variable objetivo. El índice de Gini para una variable categórica es el índice de impureza mínimo que se puede alcanzar cuando se divide la población en subgrupos utilizando los valores de la variable categórica. En este caso, el índice de Gini para la variable objetivo se calcula como 1 menos la suma de los cuadrados de las proporciones de cada valor de la variable objetivo.\n",
    "\n",
    "El bucle \"for atributo in tabla.columns[:-1]:\" itera sobre todas las columnas de \"tabla\" excepto la última (la variable objetivo), y para cada columna realiza los siguientes pasos:\n",
    "\n",
    "Añade el valor de G_Gini a la lista Gi.\n",
    "Para cada valor v único en la columna actual, filtra las filas de \"tabla\" que contienen ese valor en la columna actual.\n",
    "Calcula la proporción de filas que contienen el valor v en la columna actual y la utiliza para ponderar el índice de Gini del subgrupo de filas que contienen el valor v en la columna actual. Esto se hace restando el índice de Gini del subgrupo del valor ponderado de G_Gini. El índice de Gini del subgrupo se calcula como 1 menos la suma de los cuadrados de las proporciones de cada valor de la variable objetivo en el subgrupo.\n",
    "Resta el índice ponderado del paso anterior a G_Gini y añade el resultado a la lista Gi.\n",
    "Al final del bucle, la lista Gi contendrá el índice de Gini de cada atributo en \"tabla\" con respecto a la variable objetivo. El resultado final es la lista Gi.\n",
    "</div>"
   ]
  },
  {
   "cell_type": "code",
   "execution_count": 11,
   "id": "d2c24494-69c6-438a-984f-f6b56a2c401c",
   "metadata": {},
   "outputs": [
    {
     "data": {
      "text/plain": [
       "[0.4591836734693877,\n",
       " 0.11632653061224485,\n",
       " 0.018707482993197258,\n",
       " 0.09183673469387743,\n",
       " 0.030612244897959162]"
      ]
     },
     "execution_count": 11,
     "metadata": {},
     "output_type": "execute_result"
    }
   ],
   "source": [
    "Gi = []\n",
    "G_Gini = 1-sum(tabla.iloc[:,-1].value_counts(normalize=True)**2)\n",
    "l = len(tabla)\n",
    "for atributo in tabla.columns[:-1]:\n",
    "    Gi.append(G_Gini)\n",
    "    for v in tabla[atributo].unique():\n",
    "        table = tabla.loc[tabla[atributo] == v]\n",
    "        Gi[-1] -= (len(table)/l)*(1-sum(table.iloc[:,-1].value_counts(normalize=True)**2))\n",
    "Gi"
   ]
  },
  {
   "cell_type": "markdown",
   "id": "f50996a8-7a28-4077-9c3d-87c15c67af43",
   "metadata": {},
   "source": [
    "<div class=\"alert alert-block alert-success\">\n",
    "<b>El siguiente código:</b> imprime la ganancia máxima de índice de Gini obtenida por los atributos en el DataFrame \"tabla\" con respecto a la variable objetivo (la última columna).\n",
    "\n",
    "La expresión \"np.argmax(Gi[1:])+1\" encuentra el índice del elemento máximo de la lista Gi a partir del segundo elemento (índice 1) hasta el final. El resultado se suma 1 para ajustar el índice al número de columna correspondiente en \"tabla\". Esto devuelve el índice del atributo que tiene el mayor índice de Gini con respecto a la variable objetivo.\n",
    "\n",
    "La expresión \"tabla.columns[np.argmax(Gi[1:])+1]\" utiliza el índice del atributo con mayor índice de Gini para obtener su nombre de columna correspondiente en \"tabla\".\n",
    "\n",
    "La expresión \"Gi[np.argmax(np.array(Gi[1:]))+1]\" utiliza el mismo índice del atributo con mayor índice de Gini para obtener su valor de índice de Gini correspondiente de la lista Gi.\n",
    "\n",
    "En conjunto, este código imprime el nombre del atributo con el mayor índice de Gini con respecto a la variable objetivo, seguido de su valor de índice de Gini.\n",
    "</div>"
   ]
  },
  {
   "cell_type": "code",
   "execution_count": 12,
   "id": "9830f95f-f328-4888-8ead-65549004e6b6",
   "metadata": {},
   "outputs": [
    {
     "name": "stdout",
     "output_type": "stream",
     "text": [
      "Ganancia MAXIMA en Información (GINI) =    - outlook - Correspondiente al valor  0.11632653061224485\n"
     ]
    }
   ],
   "source": [
    "print(\"Ganancia MAXIMA en Información (GINI) =    -\", tabla.columns[np.argmax(Gi[1:])+1], \"- Correspondiente al valor \", Gi[np.argmax(np.array(Gi[1:]))+1])"
   ]
  },
  {
   "cell_type": "code",
   "execution_count": 35,
   "id": "1f4653c8-d425-4ccd-9d30-4dd4435aba09",
   "metadata": {},
   "outputs": [
    {
     "data": {
      "text/html": [
       "<div>\n",
       "<style scoped>\n",
       "    .dataframe tbody tr th:only-of-type {\n",
       "        vertical-align: middle;\n",
       "    }\n",
       "\n",
       "    .dataframe tbody tr th {\n",
       "        vertical-align: top;\n",
       "    }\n",
       "\n",
       "    .dataframe thead th {\n",
       "        text-align: right;\n",
       "    }\n",
       "</style>\n",
       "<table border=\"1\" class=\"dataframe\">\n",
       "  <thead>\n",
       "    <tr style=\"text-align: right;\">\n",
       "      <th></th>\n",
       "      <th>Atributo</th>\n",
       "      <th>Entropía</th>\n",
       "      <th>Ganancia de Información</th>\n",
       "      <th>Ganancia de Gini</th>\n",
       "    </tr>\n",
       "  </thead>\n",
       "  <tbody>\n",
       "    <tr>\n",
       "      <th>1</th>\n",
       "      <td>outlook</td>\n",
       "      <td>0.9403</td>\n",
       "      <td>0.2467</td>\n",
       "      <td>0.1163</td>\n",
       "    </tr>\n",
       "    <tr>\n",
       "      <th>2</th>\n",
       "      <td>temperature</td>\n",
       "      <td>0.9403</td>\n",
       "      <td>0.0292</td>\n",
       "      <td>0.0187</td>\n",
       "    </tr>\n",
       "    <tr>\n",
       "      <th>3</th>\n",
       "      <td>humidity</td>\n",
       "      <td>0.9403</td>\n",
       "      <td>0.1518</td>\n",
       "      <td>0.0918</td>\n",
       "    </tr>\n",
       "    <tr>\n",
       "      <th>4</th>\n",
       "      <td>windy</td>\n",
       "      <td>0.9403</td>\n",
       "      <td>0.0481</td>\n",
       "      <td>0.0306</td>\n",
       "    </tr>\n",
       "  </tbody>\n",
       "</table>\n",
       "</div>"
      ],
      "text/plain": [
       "      Atributo Entropía Ganancia de Información Ganancia de Gini\n",
       "1      outlook   0.9403                  0.2467           0.1163\n",
       "2  temperature   0.9403                  0.0292           0.0187\n",
       "3     humidity   0.9403                  0.1518           0.0918\n",
       "4        windy   0.9403                  0.0481           0.0306"
      ]
     },
     "execution_count": 35,
     "metadata": {},
     "output_type": "execute_result"
    }
   ],
   "source": [
    "# Crear la lista de diccionarios\n",
    "atributos = tabla.columns[:-1]\n",
    "datos = []\n",
    "for i in range(len(atributos)):\n",
    "    datos.append({\n",
    "        \"Atributo\": atributos[i],\n",
    "        \"Entropía\": \"{:.4f}\".format(H),\n",
    "        \"Ganancia de Información\": \"{:.4f}\".format(G[i]),\n",
    "        \"Ganancia de Gini\": \"{:.4f}\".format(Gi[i])\n",
    "    })\n",
    "\n",
    "# Crear el DataFrame\n",
    "df = pd.DataFrame(datos)\n",
    "df.drop([0], axis=0, inplace=True)\n",
    "df"
   ]
  }
 ],
 "metadata": {
  "kernelspec": {
   "display_name": "Python 3 (ipykernel)",
   "language": "python",
   "name": "python3"
  },
  "language_info": {
   "codemirror_mode": {
    "name": "ipython",
    "version": 3
   },
   "file_extension": ".py",
   "mimetype": "text/x-python",
   "name": "python",
   "nbconvert_exporter": "python",
   "pygments_lexer": "ipython3",
   "version": "3.9.13"
  }
 },
 "nbformat": 4,
 "nbformat_minor": 5
}
