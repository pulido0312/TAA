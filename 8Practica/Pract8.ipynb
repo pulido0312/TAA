{
 "cells": [
  {
   "cell_type": "markdown",
   "id": "da8662b6",
   "metadata": {},
   "source": [
    "## Alejandro Pulido Sánchez"
   ]
  },
  {
   "cell_type": "markdown",
   "id": "4fd9a4b1",
   "metadata": {},
   "source": [
    "# PRÁCTICA 8: REGRESIÓN LINEAL MÚLTIPLE Y LOGÍSTICA"
   ]
  },
  {
   "cell_type": "code",
   "execution_count": 1,
   "id": "f27f50c4",
   "metadata": {},
   "outputs": [],
   "source": [
    "import numpy as np\n",
    "import pandas as pd\n",
    "from sklearn.preprocessing import MinMaxScaler, LabelBinarizer\n",
    "from sklearn.model_selection import train_test_split, StratifiedKFold\n",
    "from sklearn.linear_model import LinearRegression, LogisticRegression\n",
    "from sklearn.metrics import confusion_matrix, accuracy_score\n",
    "from sys import float_info"
   ]
  },
  {
   "cell_type": "markdown",
   "id": "a8c8baf2",
   "metadata": {},
   "source": [
    "## Regresión Lineal Múltiple"
   ]
  },
  {
   "cell_type": "markdown",
   "id": "e33a4006",
   "metadata": {},
   "source": [
    "<div class=\"alert alert-block alert-success\">\n",
    "<b>La línea X = MinMaxScaler().fit_transform(datos.iloc[:, :-1])</b> escala todas las características del conjunto de datos, excepto la variable de respuesta, utilizando la técnica de escalamiento Min-Max, que transforma los valores de las características en el rango [0, 1]. El objeto MinMaxScaler() se ajusta y se transforma al conjunto de datos utilizando el método fit_transform().\n",
    "\n",
    "<b>La línea Yb = LabelBinarizer().fit_transform(datos.iloc[:, -1])</b> transforma la variable de respuesta en una matriz de valores binarios utilizando la técnica de binarización de etiquetas \"onehot\". El objeto LabelBinarizer() se ajusta y se transforma a la variable de respuesta utilizando el método fit_transform().\n",
    "\n",
    "<b>La línea Y = datos.iloc[:, -1]</b> selecciona la variable de respuesta original sin transformar y la asigna a la variable Y"
   ]
  },
  {
   "cell_type": "code",
   "execution_count": 2,
   "id": "fcae72b2",
   "metadata": {
    "scrolled": true
   },
   "outputs": [
    {
     "data": {
      "text/html": [
       "<div>\n",
       "<style scoped>\n",
       "    .dataframe tbody tr th:only-of-type {\n",
       "        vertical-align: middle;\n",
       "    }\n",
       "\n",
       "    .dataframe tbody tr th {\n",
       "        vertical-align: top;\n",
       "    }\n",
       "\n",
       "    .dataframe thead th {\n",
       "        text-align: right;\n",
       "    }\n",
       "</style>\n",
       "<table border=\"1\" class=\"dataframe\">\n",
       "  <thead>\n",
       "    <tr style=\"text-align: right;\">\n",
       "      <th></th>\n",
       "      <th>region-centroid-col</th>\n",
       "      <th>region-centroid-row</th>\n",
       "      <th>region-pixel-count</th>\n",
       "      <th>short-line-density-5</th>\n",
       "      <th>short-line-density-2</th>\n",
       "      <th>vedge-mean</th>\n",
       "      <th>vegde-sd</th>\n",
       "      <th>hedge-mean</th>\n",
       "      <th>hedge-sd</th>\n",
       "      <th>intensity-mean</th>\n",
       "      <th>rawred-mean</th>\n",
       "      <th>rawblue-mean</th>\n",
       "      <th>rawgreen-mean</th>\n",
       "      <th>exred-mean</th>\n",
       "      <th>exblue-mean</th>\n",
       "      <th>exgreen-mean</th>\n",
       "      <th>value-mean</th>\n",
       "      <th>saturation-mean</th>\n",
       "      <th>hue-mean</th>\n",
       "      <th>class</th>\n",
       "    </tr>\n",
       "  </thead>\n",
       "  <tbody>\n",
       "    <tr>\n",
       "      <th>0</th>\n",
       "      <td>218</td>\n",
       "      <td>178</td>\n",
       "      <td>9</td>\n",
       "      <td>0.111111</td>\n",
       "      <td>0.0</td>\n",
       "      <td>0.833333</td>\n",
       "      <td>0.547722</td>\n",
       "      <td>1.111110</td>\n",
       "      <td>0.544331</td>\n",
       "      <td>59.629600</td>\n",
       "      <td>52.44440</td>\n",
       "      <td>75.22220</td>\n",
       "      <td>51.222200</td>\n",
       "      <td>-21.555600</td>\n",
       "      <td>46.77780</td>\n",
       "      <td>-25.22220</td>\n",
       "      <td>75.22220</td>\n",
       "      <td>0.318996</td>\n",
       "      <td>-2.04055</td>\n",
       "      <td>path</td>\n",
       "    </tr>\n",
       "    <tr>\n",
       "      <th>1</th>\n",
       "      <td>113</td>\n",
       "      <td>130</td>\n",
       "      <td>9</td>\n",
       "      <td>0.000000</td>\n",
       "      <td>0.0</td>\n",
       "      <td>0.277778</td>\n",
       "      <td>0.250924</td>\n",
       "      <td>0.333333</td>\n",
       "      <td>0.365148</td>\n",
       "      <td>0.888889</td>\n",
       "      <td>0.00000</td>\n",
       "      <td>2.55556</td>\n",
       "      <td>0.111111</td>\n",
       "      <td>-2.666670</td>\n",
       "      <td>5.00000</td>\n",
       "      <td>-2.33333</td>\n",
       "      <td>2.55556</td>\n",
       "      <td>1.000000</td>\n",
       "      <td>-2.12325</td>\n",
       "      <td>foliage</td>\n",
       "    </tr>\n",
       "    <tr>\n",
       "      <th>2</th>\n",
       "      <td>202</td>\n",
       "      <td>41</td>\n",
       "      <td>9</td>\n",
       "      <td>0.000000</td>\n",
       "      <td>0.0</td>\n",
       "      <td>0.944448</td>\n",
       "      <td>0.772202</td>\n",
       "      <td>1.111110</td>\n",
       "      <td>1.025600</td>\n",
       "      <td>123.037000</td>\n",
       "      <td>111.88900</td>\n",
       "      <td>139.77800</td>\n",
       "      <td>117.444000</td>\n",
       "      <td>-33.444400</td>\n",
       "      <td>50.22220</td>\n",
       "      <td>-16.77780</td>\n",
       "      <td>139.77800</td>\n",
       "      <td>0.199347</td>\n",
       "      <td>-2.29992</td>\n",
       "      <td>sky</td>\n",
       "    </tr>\n",
       "    <tr>\n",
       "      <th>3</th>\n",
       "      <td>32</td>\n",
       "      <td>173</td>\n",
       "      <td>9</td>\n",
       "      <td>0.000000</td>\n",
       "      <td>0.0</td>\n",
       "      <td>1.722220</td>\n",
       "      <td>1.781590</td>\n",
       "      <td>9.000000</td>\n",
       "      <td>6.749490</td>\n",
       "      <td>43.592600</td>\n",
       "      <td>39.55560</td>\n",
       "      <td>52.88890</td>\n",
       "      <td>38.333300</td>\n",
       "      <td>-12.111100</td>\n",
       "      <td>27.88890</td>\n",
       "      <td>-15.77780</td>\n",
       "      <td>52.88890</td>\n",
       "      <td>0.266914</td>\n",
       "      <td>-1.99886</td>\n",
       "      <td>path</td>\n",
       "    </tr>\n",
       "    <tr>\n",
       "      <th>4</th>\n",
       "      <td>61</td>\n",
       "      <td>197</td>\n",
       "      <td>9</td>\n",
       "      <td>0.000000</td>\n",
       "      <td>0.0</td>\n",
       "      <td>1.444440</td>\n",
       "      <td>1.515350</td>\n",
       "      <td>2.611110</td>\n",
       "      <td>1.925460</td>\n",
       "      <td>49.592600</td>\n",
       "      <td>44.22220</td>\n",
       "      <td>61.55560</td>\n",
       "      <td>43.000000</td>\n",
       "      <td>-16.111100</td>\n",
       "      <td>35.88890</td>\n",
       "      <td>-19.77780</td>\n",
       "      <td>61.55560</td>\n",
       "      <td>0.302925</td>\n",
       "      <td>-2.02227</td>\n",
       "      <td>path</td>\n",
       "    </tr>\n",
       "    <tr>\n",
       "      <th>...</th>\n",
       "      <td>...</td>\n",
       "      <td>...</td>\n",
       "      <td>...</td>\n",
       "      <td>...</td>\n",
       "      <td>...</td>\n",
       "      <td>...</td>\n",
       "      <td>...</td>\n",
       "      <td>...</td>\n",
       "      <td>...</td>\n",
       "      <td>...</td>\n",
       "      <td>...</td>\n",
       "      <td>...</td>\n",
       "      <td>...</td>\n",
       "      <td>...</td>\n",
       "      <td>...</td>\n",
       "      <td>...</td>\n",
       "      <td>...</td>\n",
       "      <td>...</td>\n",
       "      <td>...</td>\n",
       "      <td>...</td>\n",
       "    </tr>\n",
       "    <tr>\n",
       "      <th>2305</th>\n",
       "      <td>30</td>\n",
       "      <td>102</td>\n",
       "      <td>9</td>\n",
       "      <td>0.000000</td>\n",
       "      <td>0.0</td>\n",
       "      <td>1.222220</td>\n",
       "      <td>0.118518</td>\n",
       "      <td>1.333330</td>\n",
       "      <td>0.800000</td>\n",
       "      <td>20.259300</td>\n",
       "      <td>20.33330</td>\n",
       "      <td>25.00000</td>\n",
       "      <td>15.444400</td>\n",
       "      <td>0.222222</td>\n",
       "      <td>14.22220</td>\n",
       "      <td>-14.44440</td>\n",
       "      <td>25.00000</td>\n",
       "      <td>0.381059</td>\n",
       "      <td>-1.55510</td>\n",
       "      <td>brickface</td>\n",
       "    </tr>\n",
       "    <tr>\n",
       "      <th>2306</th>\n",
       "      <td>143</td>\n",
       "      <td>24</td>\n",
       "      <td>9</td>\n",
       "      <td>0.000000</td>\n",
       "      <td>0.0</td>\n",
       "      <td>1.277780</td>\n",
       "      <td>0.907406</td>\n",
       "      <td>0.888888</td>\n",
       "      <td>1.140750</td>\n",
       "      <td>127.630000</td>\n",
       "      <td>117.66700</td>\n",
       "      <td>141.66700</td>\n",
       "      <td>123.556000</td>\n",
       "      <td>-29.888900</td>\n",
       "      <td>42.11110</td>\n",
       "      <td>-12.22220</td>\n",
       "      <td>141.66700</td>\n",
       "      <td>0.169397</td>\n",
       "      <td>-2.34925</td>\n",
       "      <td>sky</td>\n",
       "    </tr>\n",
       "    <tr>\n",
       "      <th>2307</th>\n",
       "      <td>80</td>\n",
       "      <td>72</td>\n",
       "      <td>9</td>\n",
       "      <td>0.000000</td>\n",
       "      <td>0.0</td>\n",
       "      <td>1.222220</td>\n",
       "      <td>1.003700</td>\n",
       "      <td>1.444440</td>\n",
       "      <td>1.167460</td>\n",
       "      <td>59.000000</td>\n",
       "      <td>51.33330</td>\n",
       "      <td>74.44440</td>\n",
       "      <td>51.222200</td>\n",
       "      <td>-23.000000</td>\n",
       "      <td>46.33330</td>\n",
       "      <td>-23.33330</td>\n",
       "      <td>74.44440</td>\n",
       "      <td>0.314606</td>\n",
       "      <td>-2.09022</td>\n",
       "      <td>cement</td>\n",
       "    </tr>\n",
       "    <tr>\n",
       "      <th>2308</th>\n",
       "      <td>98</td>\n",
       "      <td>133</td>\n",
       "      <td>9</td>\n",
       "      <td>0.000000</td>\n",
       "      <td>0.0</td>\n",
       "      <td>0.555555</td>\n",
       "      <td>0.172133</td>\n",
       "      <td>0.388889</td>\n",
       "      <td>0.327731</td>\n",
       "      <td>0.962963</td>\n",
       "      <td>0.00000</td>\n",
       "      <td>2.77778</td>\n",
       "      <td>0.111111</td>\n",
       "      <td>-2.888890</td>\n",
       "      <td>5.44444</td>\n",
       "      <td>-2.55556</td>\n",
       "      <td>2.77778</td>\n",
       "      <td>1.000000</td>\n",
       "      <td>-2.12325</td>\n",
       "      <td>foliage</td>\n",
       "    </tr>\n",
       "    <tr>\n",
       "      <th>2309</th>\n",
       "      <td>19</td>\n",
       "      <td>147</td>\n",
       "      <td>9</td>\n",
       "      <td>0.000000</td>\n",
       "      <td>0.0</td>\n",
       "      <td>0.222222</td>\n",
       "      <td>0.074074</td>\n",
       "      <td>0.500000</td>\n",
       "      <td>0.077778</td>\n",
       "      <td>4.148150</td>\n",
       "      <td>3.88889</td>\n",
       "      <td>6.66667</td>\n",
       "      <td>1.888890</td>\n",
       "      <td>-0.777778</td>\n",
       "      <td>7.55556</td>\n",
       "      <td>-6.77778</td>\n",
       "      <td>7.00000</td>\n",
       "      <td>0.713228</td>\n",
       "      <td>-1.47564</td>\n",
       "      <td>brickface</td>\n",
       "    </tr>\n",
       "  </tbody>\n",
       "</table>\n",
       "<p>2310 rows × 20 columns</p>\n",
       "</div>"
      ],
      "text/plain": [
       "      region-centroid-col  region-centroid-row  region-pixel-count  \\\n",
       "0                     218                  178                   9   \n",
       "1                     113                  130                   9   \n",
       "2                     202                   41                   9   \n",
       "3                      32                  173                   9   \n",
       "4                      61                  197                   9   \n",
       "...                   ...                  ...                 ...   \n",
       "2305                   30                  102                   9   \n",
       "2306                  143                   24                   9   \n",
       "2307                   80                   72                   9   \n",
       "2308                   98                  133                   9   \n",
       "2309                   19                  147                   9   \n",
       "\n",
       "      short-line-density-5  short-line-density-2  vedge-mean  vegde-sd  \\\n",
       "0                 0.111111                   0.0    0.833333  0.547722   \n",
       "1                 0.000000                   0.0    0.277778  0.250924   \n",
       "2                 0.000000                   0.0    0.944448  0.772202   \n",
       "3                 0.000000                   0.0    1.722220  1.781590   \n",
       "4                 0.000000                   0.0    1.444440  1.515350   \n",
       "...                    ...                   ...         ...       ...   \n",
       "2305              0.000000                   0.0    1.222220  0.118518   \n",
       "2306              0.000000                   0.0    1.277780  0.907406   \n",
       "2307              0.000000                   0.0    1.222220  1.003700   \n",
       "2308              0.000000                   0.0    0.555555  0.172133   \n",
       "2309              0.000000                   0.0    0.222222  0.074074   \n",
       "\n",
       "      hedge-mean  hedge-sd  intensity-mean  rawred-mean  rawblue-mean  \\\n",
       "0       1.111110  0.544331       59.629600     52.44440      75.22220   \n",
       "1       0.333333  0.365148        0.888889      0.00000       2.55556   \n",
       "2       1.111110  1.025600      123.037000    111.88900     139.77800   \n",
       "3       9.000000  6.749490       43.592600     39.55560      52.88890   \n",
       "4       2.611110  1.925460       49.592600     44.22220      61.55560   \n",
       "...          ...       ...             ...          ...           ...   \n",
       "2305    1.333330  0.800000       20.259300     20.33330      25.00000   \n",
       "2306    0.888888  1.140750      127.630000    117.66700     141.66700   \n",
       "2307    1.444440  1.167460       59.000000     51.33330      74.44440   \n",
       "2308    0.388889  0.327731        0.962963      0.00000       2.77778   \n",
       "2309    0.500000  0.077778        4.148150      3.88889       6.66667   \n",
       "\n",
       "      rawgreen-mean  exred-mean  exblue-mean  exgreen-mean  value-mean  \\\n",
       "0         51.222200  -21.555600     46.77780     -25.22220    75.22220   \n",
       "1          0.111111   -2.666670      5.00000      -2.33333     2.55556   \n",
       "2        117.444000  -33.444400     50.22220     -16.77780   139.77800   \n",
       "3         38.333300  -12.111100     27.88890     -15.77780    52.88890   \n",
       "4         43.000000  -16.111100     35.88890     -19.77780    61.55560   \n",
       "...             ...         ...          ...           ...         ...   \n",
       "2305      15.444400    0.222222     14.22220     -14.44440    25.00000   \n",
       "2306     123.556000  -29.888900     42.11110     -12.22220   141.66700   \n",
       "2307      51.222200  -23.000000     46.33330     -23.33330    74.44440   \n",
       "2308       0.111111   -2.888890      5.44444      -2.55556     2.77778   \n",
       "2309       1.888890   -0.777778      7.55556      -6.77778     7.00000   \n",
       "\n",
       "      saturation-mean  hue-mean      class  \n",
       "0            0.318996  -2.04055       path  \n",
       "1            1.000000  -2.12325    foliage  \n",
       "2            0.199347  -2.29992        sky  \n",
       "3            0.266914  -1.99886       path  \n",
       "4            0.302925  -2.02227       path  \n",
       "...               ...       ...        ...  \n",
       "2305         0.381059  -1.55510  brickface  \n",
       "2306         0.169397  -2.34925        sky  \n",
       "2307         0.314606  -2.09022     cement  \n",
       "2308         1.000000  -2.12325    foliage  \n",
       "2309         0.713228  -1.47564  brickface  \n",
       "\n",
       "[2310 rows x 20 columns]"
      ]
     },
     "execution_count": 2,
     "metadata": {},
     "output_type": "execute_result"
    }
   ],
   "source": [
    "datos = pd.read_csv(\"dataset_36_segment.csv\")\n",
    "X = MinMaxScaler().fit_transform(datos.iloc[:, :-1])\n",
    "Yb = LabelBinarizer().fit_transform(datos.iloc[:, -1]) #Binario \"onehot\"\n",
    "Y = datos.iloc[:, -1]\n",
    "datos"
   ]
  },
  {
   "cell_type": "markdown",
   "id": "1a236c4f",
   "metadata": {},
   "source": [
    "<div class=\"alert alert-block alert-success\">\n",
    "<b>train_test_split(X, Yb, test_size=1/3, stratify=Yb):</b> divide el conjunto de datos en conjuntos de entrenamiento y prueba (X_train, X_test, Y_train, Y_test) en una proporción del 2:1 (un tercio para el conjunto de prueba) utilizando el método de remuestreo aleatorio. X es el conjunto de características transformadas y escaladas y Yb es el conjunto de variables de respuesta transformadas. El argumento test_size especifica la proporción del conjunto de prueba y stratify=Yb asegura que la división del conjunto de datos sea estratificada, es decir, que la proporción de clases en el conjunto de entrenamiento y prueba sea la misma que en el conjunto de datos original.\n",
    "\n",
    "<b>X_train.shape, X_test.shape, Y_train.shape, Y_test.shape:</b> imprime las dimensiones de los conjuntos de entrenamiento y prueba. En particular, X_train.shape y Y_train.shape devuelven el número de filas y columnas en los conjuntos de entrenamiento para las características y variables de respuesta, respectivamente, mientras que X_test.shape y Y_test.shape devuelven el número de filas y columnas en los conjuntos de prueba para las características y variables de respuesta, respectivamente."
   ]
  },
  {
   "cell_type": "code",
   "execution_count": 3,
   "id": "c40e10cc",
   "metadata": {},
   "outputs": [
    {
     "data": {
      "text/plain": [
       "((1540, 19), (770, 19), (1540, 7), (770, 7))"
      ]
     },
     "execution_count": 3,
     "metadata": {},
     "output_type": "execute_result"
    }
   ],
   "source": [
    "X_train, X_test, Y_train, Y_test = train_test_split(X, Yb, test_size=1/3, stratify=Yb)\n",
    "X_train.shape, X_test.shape, Y_train.shape, Y_test.shape"
   ]
  },
  {
   "cell_type": "markdown",
   "id": "5b4256cf",
   "metadata": {},
   "source": [
    "<div class=\"alert alert-block alert-success\">\n",
    "<b>Y_predict = float_info.min*np.ones(Y_test.shape, dtype=float):</b> crea una matriz Y_predict con el mismo número de filas y columnas que Y_test y la inicializa con el valor mínimo posible de un número de punto flotante, obtenido del módulo sys.float_info, multiplicado por un vector de unos. El argumento dtype=float asegura que la matriz sea de tipo de datos de punto flotante.\n",
    "\n",
    "<b>Y_predict:</b> devuelve la matriz Y_predict. Esta matriz se utiliza comúnmente en la evaluación de modelos de aprendizaje automático para inicializar las predicciones antes de ajustar el modelo y predecir valores reales."
   ]
  },
  {
   "cell_type": "code",
   "execution_count": 4,
   "id": "359fbeff",
   "metadata": {},
   "outputs": [
    {
     "data": {
      "text/plain": [
       "array([[2.22507386e-308, 2.22507386e-308, 2.22507386e-308, ...,\n",
       "        2.22507386e-308, 2.22507386e-308, 2.22507386e-308],\n",
       "       [2.22507386e-308, 2.22507386e-308, 2.22507386e-308, ...,\n",
       "        2.22507386e-308, 2.22507386e-308, 2.22507386e-308],\n",
       "       [2.22507386e-308, 2.22507386e-308, 2.22507386e-308, ...,\n",
       "        2.22507386e-308, 2.22507386e-308, 2.22507386e-308],\n",
       "       ...,\n",
       "       [2.22507386e-308, 2.22507386e-308, 2.22507386e-308, ...,\n",
       "        2.22507386e-308, 2.22507386e-308, 2.22507386e-308],\n",
       "       [2.22507386e-308, 2.22507386e-308, 2.22507386e-308, ...,\n",
       "        2.22507386e-308, 2.22507386e-308, 2.22507386e-308],\n",
       "       [2.22507386e-308, 2.22507386e-308, 2.22507386e-308, ...,\n",
       "        2.22507386e-308, 2.22507386e-308, 2.22507386e-308]])"
      ]
     },
     "execution_count": 4,
     "metadata": {},
     "output_type": "execute_result"
    }
   ],
   "source": [
    "Y_predict = float_info.min*np.ones(Y_test.shape, dtype=float)\n",
    "Y_predict"
   ]
  },
  {
   "cell_type": "markdown",
   "id": "9d9a2516",
   "metadata": {},
   "source": [
    "<div class=\"alert alert-block alert-success\">\n",
    "<b>for i in range (Y_train.shape[1]):</b> itera a través de todas las variables de respuesta en el conjunto de entrenamiento, que corresponden a las columnas de Y_train, utilizando el método range().\n",
    "\n",
    "<b>model = LinearRegression():</b> crea una instancia del modelo de regresión lineal de la biblioteca sklearn.linear_model.\n",
    "\n",
    "<b>model.fit(X_train, Y_train[:,i]):</b> ajusta el modelo a los datos de entrenamiento (X_train y la columna i de Y_train) utilizando el método fit() del modelo.\n",
    "\n",
    "<b>Y_predict[:,i] = model.predict(X_test):</b> utiliza el modelo ajustado para hacer predicciones en el conjunto de prueba (X_test) y las asigna a la columna i de Y_predict.\n",
    "\n",
    "<b>Y_test.shape[0]:</b> devuelve el número de filas en el conjunto de prueba Y_test."
   ]
  },
  {
   "cell_type": "code",
   "execution_count": 5,
   "id": "edbdc282",
   "metadata": {},
   "outputs": [
    {
     "data": {
      "text/plain": [
       "770"
      ]
     },
     "execution_count": 5,
     "metadata": {},
     "output_type": "execute_result"
    }
   ],
   "source": [
    "for i in range (Y_train.shape[1]):\n",
    "    model = LinearRegression()\n",
    "    model.fit(X_train, Y_train[:,i])\n",
    "    Y_predict[:,i] = model.predict(X_test)\n",
    "Y_test.shape[0]"
   ]
  },
  {
   "cell_type": "markdown",
   "id": "9b630acc",
   "metadata": {},
   "source": [
    "<div class=\"alert alert-block alert-success\">\n",
    "<b>np.argmax(Y_test,axis=1):</b> devuelve la posición del valor máximo en cada fila del conjunto de prueba Y_test. Esto se utiliza para convertir las etiquetas binarias codificadas en un vector de etiquetas.\n",
    "\n",
    "<b>np.argmax(Y_predict, axis=1):</b> devuelve la posición del valor máximo en cada fila de la matriz Y_predict. Esto se utiliza para convertir las etiquetas binarias codificadas en un vector de etiquetas.\n",
    "\n",
    "<b>accuracy_score(np.argmax(Y_test,axis=1), np.argmax(Y_predict, axis=1)):</b> utiliza la función accuracy_score de la biblioteca sklearn.metrics para calcular la tasa de aciertos entre el vector de etiquetas reales (np.argmax(Y_test,axis=1)) y el vector de etiquetas predichas (np.argmax(Y_predict, axis=1)). La tasa de aciertos se define como el número de predicciones correctas dividido por el número total de predicciones."
   ]
  },
  {
   "cell_type": "code",
   "execution_count": 6,
   "id": "48fb4fb8",
   "metadata": {},
   "outputs": [
    {
     "name": "stdout",
     "output_type": "stream",
     "text": [
      "Tasa de aciertos = 0.8402597402597403\n"
     ]
    }
   ],
   "source": [
    "print(\"Tasa de aciertos =\",accuracy_score(np.argmax(Y_test,axis=1), np.argmax(Y_predict, axis=1)))"
   ]
  },
  {
   "cell_type": "markdown",
   "id": "65b62ff1",
   "metadata": {},
   "source": [
    "<div class=\"alert alert-block alert-success\">\n",
    "<b>confusion_matrix(np.argmax(Y_test, axis=1), np.argmax(Y_predict, axis=1)):</b> utiliza la función confusion_matrix de la biblioteca sklearn.metrics para calcular la matriz de confusión entre el vector de etiquetas reales (np.argmax(Y_test, axis=1)) y el vector de etiquetas predichas (np.argmax(Y_predict, axis=1)). La matriz de confusión es una tabla que muestra el número de verdaderos positivos, falsos positivos, verdaderos negativos y falsos negativos para cada clase.\n",
    "\n",
    "En conjunto, este fragmento de código calcula y muestra la matriz de confusión del modelo utilizando las etiquetas reales y predichas del conjunto de prueba. La matriz de confusión proporciona información detallada sobre el rendimiento del modelo para cada clase.\n",
    "\n",
    "\n",
    "\n",
    "\n"
   ]
  },
  {
   "cell_type": "code",
   "execution_count": 7,
   "id": "f1d227d4",
   "metadata": {},
   "outputs": [
    {
     "name": "stdout",
     "output_type": "stream",
     "text": [
      "\n",
      "Matriz de Confusión:\n",
      " [[107   0   3   0   0   0   0]\n",
      " [ 24  42   2   0  27   2  13]\n",
      " [  0   5  95   0   0   0  10]\n",
      " [  0   0   0 108   2   0   0]\n",
      " [  0   0   0   0 110   0   0]\n",
      " [  0   0   0   0   0 110   0]\n",
      " [  1   3  29   0   2   0  75]]\n"
     ]
    }
   ],
   "source": [
    "print(\"\\nMatriz de Confusión:\\n\", confusion_matrix(np.argmax(Y_test, axis=1), np.argmax(Y_predict, axis=1)))"
   ]
  },
  {
   "cell_type": "markdown",
   "id": "5fe13cee",
   "metadata": {},
   "source": [
    "## Regresion Logistica"
   ]
  },
  {
   "cell_type": "code",
   "execution_count": 8,
   "id": "ad99ad10",
   "metadata": {},
   "outputs": [],
   "source": [
    "precision = 0\n",
    "K = 10\n",
    "kfold = StratifiedKFold(n_splits=K)"
   ]
  },
  {
   "cell_type": "markdown",
   "id": "af04b0c6",
   "metadata": {},
   "source": [
    "<div class=\"alert alert-block alert-success\">\n",
    "Este fragmento de código realiza validación cruzada utilizando StratifiedKFold para dividir el conjunto de datos en 10 pliegues y calcular la tasa de error promedio del modelo en cada pliegue. En resumen:\n",
    "\n",
    "<b>cv = StratifiedKFold(n_splits=10):</b> crea una instancia del objeto StratifiedKFold con 10 pliegues.\n",
    "\n",
    "<b>for train_index, test_index in cv.split(X,Y)::</b> divide el conjunto de datos en 10 pliegues utilizando cv.split(), que devuelve los índices de los datos de entrenamiento y prueba en cada pliegue.\n",
    "    \n",
    "<b>X_train, X_test = X[train_index], X[test_index]:</b> separa los datos de entrada en conjuntos de entrenamiento y prueba basados en los índices de los pliegues actuales.\n",
    "\n",
    "<b>Y_train, Y_test = Yb[train_index], Yb[test_index]:</b> separa las etiquetas binarias en conjuntos de entrenamiento y prueba basados en los índices de los pliegues actuales.\n",
    "\n",
    "<b>for i in range(Y_train.shape[1])::</b> itera a través de las etiquetas de cada clase.\n",
    "\n",
    "<b>linReg = LinearRegression():</b> crea una instancia de LinearRegression.\n",
    "\n",
    "<b>linReg.fit(X_train, Y_train[:,i]):</b> entrena el modelo de regresión lineal utilizando los datos de entrada y las etiquetas de la clase actual.\n",
    "\n",
    "<b>Y_predict[:,i] = linReg.predict(X_test):</b> predice las etiquetas de la clase actual utilizando los datos de prueba y el modelo entrenado.\n",
    "\n",
    "<b>np.sum(np.argmax(Y_predict, axis=1) == np.argmax(Y_test, axis=1))/Y_test.shape[0]:</b> calcula la tasa de error para el pliegue actual, que es la fracción de predicciones incorrectas en el conjunto de prueba.\n",
    "\n",
    "<b>precision += np.sum(np.argmax(Y_predict, axis=1) == np.argmax(Y_test, axis=1))/Y_test.shape[0]:</b> suma la tasa de error del pliegue actual a la tasa de error total.\n",
    "\n",
    "<b>precision/10:</b> calcula la tasa de error promedio del modelo utilizando la tasa de error total y el número de pliegues."
   ]
  },
  {
   "cell_type": "code",
   "execution_count": 9,
   "id": "e8f8353e",
   "metadata": {},
   "outputs": [
    {
     "name": "stdout",
     "output_type": "stream",
     "text": [
      "Las tasas de error de las 10 carpetas son: \n",
      "\n",
      "0.8917748917748918\n",
      "0.8225108225108225\n",
      "0.8441558441558441\n",
      "0.8354978354978355\n",
      "0.8701298701298701\n",
      "0.8528138528138528\n",
      "0.8225108225108225\n",
      "0.8354978354978355\n",
      "0.8311688311688312\n",
      "0.8571428571428571\n",
      "\n",
      "La media de las tasas de error:  0.8463203463203464\n"
     ]
    }
   ],
   "source": [
    "precision = 0\n",
    "cv = StratifiedKFold(n_splits=10)\n",
    "print(\"Las tasas de error de las 10 carpetas son: \\n\")\n",
    "for train_index, test_index in cv.split(X,Y):\n",
    "    X_train, X_test = X[train_index], X[test_index]\n",
    "    Y_train, Y_test = Yb[train_index], Yb[test_index]\n",
    "    Y_predict = np.zeros(Y_test.shape)\n",
    "    for i in range(Y_train.shape[1]):\n",
    "        linReg = LinearRegression()\n",
    "        linReg.fit(X_train, Y_train[:,i])\n",
    "        Y_predict[:,i] = linReg.predict(X_test)\n",
    "    print(np.sum(np.argmax(Y_predict, axis=1) == np.argmax(Y_test, axis=1))/Y_test.shape[0])\n",
    "    precision += np.sum(np.argmax(Y_predict, axis=1) == np.argmax(Y_test, axis=1))/Y_test.shape[0]\n",
    "\n",
    "print(\"\\nLa media de las tasas de error: \", precision/10)"
   ]
  },
  {
   "cell_type": "markdown",
   "id": "592c450c",
   "metadata": {},
   "source": [
    "## Ejercicio 4"
   ]
  },
  {
   "cell_type": "code",
   "execution_count": 10,
   "id": "bda28f64",
   "metadata": {},
   "outputs": [],
   "source": [
    "X_train, X_test, y_train, y_test = train_test_split(X, Y, test_size = 1./3., random_state=0, stratify=Y)"
   ]
  },
  {
   "cell_type": "markdown",
   "id": "13c6981b",
   "metadata": {},
   "source": [
    "<div class=\"alert alert-block alert-success\">\n",
    "<b>random_state=0</b> se utiliza para garantizar que el modelo se ajuste de la misma manera cada vez que se ejecute el código.\n",
    "    \n",
    "<b>solver='lbfgs'</b> es un algoritmo numérico que se utiliza para optimizar los parámetros del modelo. El algoritmo L-BFGS es una técnica de optimización que utiliza una aproximación de la matriz Hessiana inversa para actualizar los parámetros del modelo.\n",
    "    \n",
    "<b>multi_class='auto'</b> especifica el método utilizado para resolver problemas de clasificación multiclase. El valor \"auto\" ajusta el método de acuerdo con los datos.\n",
    "    \n",
    "<b>max_iter=500</b> establece el número máximo de iteraciones para el algoritmo de optimización utilizado por el modelo. Si la convergencia no se alcanza en ese número de iteraciones, el modelo devuelve una advertencia.\n",
    "fit(X_train, y_train) ajusta el modelo a los datos de entrenamiento X_train e y_train."
   ]
  },
  {
   "cell_type": "code",
   "execution_count": 11,
   "id": "1c1c5c35",
   "metadata": {},
   "outputs": [
    {
     "data": {
      "text/plain": [
       "LogisticRegression(max_iter=500, random_state=0)"
      ]
     },
     "execution_count": 11,
     "metadata": {},
     "output_type": "execute_result"
    }
   ],
   "source": [
    "regresion_logistica = LogisticRegression(random_state = 0, solver='lbfgs',multi_class='auto', max_iter= 500)\n",
    "regresion_logistica.fit(X_train, y_train)"
   ]
  },
  {
   "cell_type": "code",
   "execution_count": 12,
   "id": "d5b03c57",
   "metadata": {},
   "outputs": [],
   "source": [
    "precision = regresion_logistica.score(X_test, y_test)"
   ]
  },
  {
   "cell_type": "markdown",
   "id": "4fa5d392",
   "metadata": {},
   "source": [
    "<div class=\"alert alert-block alert-success\">\n",
    "En este código, <b>predict()</b> es un método de la clase LogisticRegression que se utiliza para hacer predicciones en el conjunto de datos de prueba X_test. Toma como entrada X_test y devuelve las predicciones correspondientes.\n",
    "\n",
    "confusion_matrix() es una función de la biblioteca scikit-learn que se utiliza para calcular la matriz de confusión a partir de las verdaderas etiquetas (y_test) y las predicciones (x_pred). La matriz de confusión es una tabla que se utiliza para evaluar el rendimiento del modelo de clasificación. Muestra el número de verdaderos positivos, verdaderos negativos, falsos positivos y falsos negativos."
   ]
  },
  {
   "cell_type": "code",
   "execution_count": 13,
   "id": "fce697f1",
   "metadata": {},
   "outputs": [
    {
     "name": "stdout",
     "output_type": "stream",
     "text": [
      "\n",
      "Matriz de Confusión:\n",
      " [[105   0   0   0   0   0   5]\n",
      " [  2  94   2   0   8   0   4]\n",
      " [  5   5  87   0   0   0  13]\n",
      " [  0   0   0 110   0   0   0]\n",
      " [  0   0   0   0 110   0   0]\n",
      " [  0   0   0   0   0 110   0]\n",
      " [  1   4  32   0   0   0  73]]\n"
     ]
    }
   ],
   "source": [
    "x_pred = regresion_logistica.predict(X_test)\n",
    "matrizconfusion = confusion_matrix(y_test,x_pred)\n",
    "print(\"\\nMatriz de Confusión:\\n\", matrizconfusion)"
   ]
  },
  {
   "cell_type": "markdown",
   "id": "45f46fbe",
   "metadata": {},
   "source": [
    "### VALIDACION CRUZADA"
   ]
  },
  {
   "cell_type": "markdown",
   "id": "8c8f12b4",
   "metadata": {},
   "source": [
    "<div class=\"alert alert-block alert-success\">\n",
    "<b>En este código se crea un objeto de la clase LogisticRegression</b> con los siguientes parámetros:\n",
    "\n",
    "random_state=0: establece la semilla aleatoria para garantizar que los resultados sean reproducibles.\n",
    "multi_class='auto': especifica que el modelo debe utilizar la estrategia \"one-vs-rest\" para problemas de clasificación con más de dos clases.\n",
    "solver='lbfgs': especifica el algoritmo a utilizar para resolver el problema de optimización subyacente.\n",
    "max_iter=500: establece el número máximo de iteraciones que el algoritmo de optimización debe ejecutar antes de detenerse."
   ]
  },
  {
   "cell_type": "code",
   "execution_count": 14,
   "id": "db79ce30",
   "metadata": {},
   "outputs": [],
   "source": [
    "reg_log = LogisticRegression(random_state=0, multi_class='auto', solver='lbfgs', max_iter=500)"
   ]
  },
  {
   "cell_type": "markdown",
   "id": "6fa861e2",
   "metadata": {},
   "source": [
    "<div class=\"alert alert-block alert-success\">\n",
    "<b>El código realiza la validación cruzada estratificada de una regresión logística en un conjunto de datos dado por las matrices X e Y.</b> \n",
    "Se utiliza una tasa de aciertos para evaluar el rendimiento del modelo en cada una de las 10 carpetas. En cada iteración del bucle for, se dividen los datos en un conjunto de entrenamiento y un conjunto de prueba utilizando la función cv.split(). Luego, se ajusta un modelo de regresión logística a los datos de entrenamiento y se evalúa su rendimiento en los datos de prueba utilizando la función score(). La tasa de aciertos de cada iteración se suma y se calcula la tasa media de aciertos. Además, se imprime la tasa de aciertos de cada iteración y la tasa media de aciertos."
   ]
  },
  {
   "cell_type": "code",
   "execution_count": 15,
   "id": "c67d17ea",
   "metadata": {},
   "outputs": [
    {
     "name": "stdout",
     "output_type": "stream",
     "text": [
      "La tasa para la carpeta  0  tiene una tasa de acierto de  0.9307359307359307\n",
      "La tasa para la carpeta  1  tiene una tasa de acierto de  0.9090909090909091\n",
      "La tasa para la carpeta  2  tiene una tasa de acierto de  0.9047619047619048\n",
      "La tasa para la carpeta  3  tiene una tasa de acierto de  0.9004329004329005\n",
      "La tasa para la carpeta  4  tiene una tasa de acierto de  0.9047619047619048\n",
      "La tasa para la carpeta  5  tiene una tasa de acierto de  0.9177489177489178\n",
      "La tasa para la carpeta  6  tiene una tasa de acierto de  0.8961038961038961\n",
      "La tasa para la carpeta  7  tiene una tasa de acierto de  0.8917748917748918\n",
      "La tasa para la carpeta  8  tiene una tasa de acierto de  0.9134199134199135\n",
      "La tasa para la carpeta  9  tiene una tasa de acierto de  0.8744588744588745\n",
      "\n",
      "Tasa de acierto: \n",
      " 0.9043290043290044\n"
     ]
    }
   ],
   "source": [
    "tasa = 0.\n",
    "cv = StratifiedKFold(n_splits=10)\n",
    "i = 0\n",
    "for train_index, test_index in cv.split(X,Y):\n",
    "    \n",
    "    X_train, X_test = X[train_index], X[test_index]\n",
    "    Y_train, Y_test = Y[train_index], Y[test_index]\n",
    "    \n",
    "    reg_log.fit(X_train, Y_train)\n",
    "    tasa += reg_log.score(X_test, Y_test)  # Actualiza la tasa de aciertos\n",
    "    print(\"La tasa para la carpeta \",i,\" tiene una tasa de acierto de \",reg_log.score(X_test, Y_test))\n",
    "    i = i+1\n",
    "print(\"\\nTasa de acierto: \\n\",tasa/10)"
   ]
  }
 ],
 "metadata": {
  "kernelspec": {
   "display_name": "Python 3 (ipykernel)",
   "language": "python",
   "name": "python3"
  },
  "language_info": {
   "codemirror_mode": {
    "name": "ipython",
    "version": 3
   },
   "file_extension": ".py",
   "mimetype": "text/x-python",
   "name": "python",
   "nbconvert_exporter": "python",
   "pygments_lexer": "ipython3",
   "version": "3.9.13"
  }
 },
 "nbformat": 4,
 "nbformat_minor": 5
}
